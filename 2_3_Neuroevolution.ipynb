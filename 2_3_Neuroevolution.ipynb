{
 "cells": [
  {
   "cell_type": "markdown",
   "metadata": {},
   "source": [
    "# Neural and Evolutionary Learning - Final Project"
   ]
  },
  {
   "cell_type": "markdown",
   "metadata": {},
   "source": [
    "## Notebook 2 - Problem Applications\n",
    "\n",
    "## **2.3.** *Neuroevolution* - `NEvol`"
   ]
  },
  {
   "cell_type": "markdown",
   "metadata": {},
   "source": [
    "|       Student Name      |    Student ID   |\n",
    "|           ---           |       ---       |\n",
    "|     Andriani Kakoulli   |     20230484    |\n",
    "|       Susana Pires      |     20230540    |"
   ]
  },
  {
   "cell_type": "markdown",
   "metadata": {},
   "source": [
    "### **1. Introduction**"
   ]
  },
  {
   "cell_type": "markdown",
   "metadata": {},
   "source": [
    "> **CONTEXT** <br>\n",
    "\n",
    "Data from Automatic Milking Systems (AMSs). <br>\n",
    "\n",
    "Milk contents (fat, protein, lactose) are emasured at each milking event, to evaluate milk quality. This measurement is through a colourimetric mehtod that requires calibration every 2 weeks. <br>\n",
    "\n",
    "> **GOAL** <br>\n",
    "\n",
    "To infer the milk components - *Lactose* - from the other sensor data from the milking robots. <br>\n",
    "Develop model to **predict** Lactose content."
   ]
  },
  {
   "cell_type": "markdown",
   "metadata": {},
   "source": [
    "> **GPOL**-based implementations\n",
    "\n",
    "> **1.** **Search Space** definition <br>\n",
    "> Python dictionary with following elements: <br>\n",
    "> - *n_dims*  <br>\n",
    "> - *function_set*  <br>\n",
    "> - *constant_set*  <br>\n",
    "> - *p_constants*  <br>\n",
    "> - *max_init_depth*  <br>\n",
    "> - *max_depth*  <br>\n",
    "> - *n_batches*  <br>\n",
    "> - *device*  <br>\n",
    "> <br>\n",
    "> \n",
    "> **2.** **Problem Instance** definition  <br>\n",
    "> Instantiantion of a SML (supervised-ML) object, it requires:  <br>\n",
    "> - *fitness function*  <br>\n",
    "> - *train data loader*  <br>\n",
    "> - *number of jobs for parallel processing* <br>\n",
    "> Optional: can take test data loader object.  <br>\n",
    "> <br>\n",
    ">\n",
    "> **3.** **Algorithm** definition  <br>\n",
    "> Instantiation of a Genetic Algorithm object, requires definitions of:  <br>\n",
    "> - *problem instance*  <br>\n",
    "> - *initialization methods*  <br>\n",
    "> - *crossover operators*  <br>\n",
    "> - *mutation operators*  <br>\n",
    "> - *crossover probabilities*  <br>\n",
    "> - *mutation probabilities*  <br>\n",
    "> - *elitism*  <br>\n",
    "> - *reproduction*  <br>\n",
    "> - *device on evaluations will be processed*  <br>\n",
    "> - *random seed*  <br>"
   ]
  },
  {
   "cell_type": "markdown",
   "metadata": {},
   "source": [
    "### **2. Environment preparation**"
   ]
  },
  {
   "cell_type": "markdown",
   "metadata": {},
   "source": [
    "### -> `2.8: same procedure in one cell`\n",
    "*The folowwing code 2.1-2.7 is step by step procedure with printing and checking each step. In 2.8, we follow the same procedure BUT in one cell with cross validation among the four optimizers."
   ]
  },
  {
   "cell_type": "markdown",
   "metadata": {},
   "source": [
    "#### **2.1. Imports**"
   ]
  },
  {
   "cell_type": "code",
   "execution_count": 1,
   "metadata": {},
   "outputs": [],
   "source": [
    "#pip install mlxtend"
   ]
  },
  {
   "cell_type": "code",
   "execution_count": 2,
   "metadata": {},
   "outputs": [],
   "source": [
    "import numpy as np\n",
    "import tensorflow as tf\n",
    "from tensorflow import keras\n",
    "from tensorflow.keras.layers import Dense\n",
    "from tensorflow.keras.models import Model, Sequential\n",
    "from tensorflow.keras.optimizers import SGD, RMSprop\n",
    "\n",
    "from gpolnel.utils.utils import train_test_split\n",
    "from gpolnel.utils.utils import load_cleaned_data\n",
    "from sklearn.preprocessing import MinMaxScaler\n",
    "\n",
    "import matplotlib.pyplot as plt\n",
    "from mlxtend.plotting import plot_decision_regions\n",
    "from tqdm import tqdm\n",
    "%matplotlib inline"
   ]
  },
  {
   "cell_type": "markdown",
   "metadata": {},
   "source": [
    "#### **2.2. Global settings**"
   ]
  },
  {
   "cell_type": "code",
   "execution_count": 3,
   "metadata": {},
   "outputs": [
    {
     "name": "stdout",
     "output_type": "stream",
     "text": [
      "Num GPUs Available:  0\n"
     ]
    }
   ],
   "source": [
    "tf.config.set_visible_devices([], 'GPU')\n",
    "print(\"Num GPUs Available: \", len(tf.config.experimental.list_physical_devices('GPU')))"
   ]
  },
  {
   "cell_type": "markdown",
   "metadata": {},
   "source": [
    "#### **2.3. Data load**"
   ]
  },
  {
   "cell_type": "markdown",
   "metadata": {},
   "source": [
    "To use the data loader<br>\n",
    "- folder *problems* - file *problem* <br>\n",
    "- folder *utils* - file *solution* <br>\n",
    "- the data loader is instantiated inside SML (folder *problems* in file *inductive_programming*) <br>"
   ]
  },
  {
   "cell_type": "code",
   "execution_count": 4,
   "metadata": {},
   "outputs": [],
   "source": [
    "X, y = load_cleaned_data(X_y=True)"
   ]
  },
  {
   "cell_type": "code",
   "execution_count": 5,
   "metadata": {},
   "outputs": [
    {
     "name": "stdout",
     "output_type": "stream",
     "text": [
      "torch.Size([177, 14]) torch.Size([177])\n"
     ]
    }
   ],
   "source": [
    "print(X.shape, y.shape)"
   ]
  },
  {
   "cell_type": "markdown",
   "metadata": {},
   "source": [
    "#### **2.4. Data split**"
   ]
  },
  {
   "cell_type": "code",
   "execution_count": 6,
   "metadata": {},
   "outputs": [
    {
     "name": "stdout",
     "output_type": "stream",
     "text": [
      "Batch size: 87\n",
      "Total batches: 1\n",
      "\n",
      "Train:\t87\n",
      "Val:\t37\n",
      "Test:\t53\n",
      "Total:\t177\n"
     ]
    }
   ],
   "source": [
    "# Train and test sets\n",
    "X_train, X_test, y_train, y_test = train_test_split(X, y, p_test=0.3, seed=27)\n",
    "\n",
    "# Train and validation sets, load from X_train and y_train\n",
    "X_train, X_val, y_train, y_val = train_test_split(X_train, y_train, p_test=0.3, seed=27)\n",
    "total_batches = 1 \n",
    "batch_size = X_train.shape[0]\n",
    "print(f'Batch size: {batch_size}\\nTotal batches: {total_batches}\\n')\n",
    "\n",
    "print(f'Train:\\t{X_train.shape[0]}\\nVal:\\t{X_val.shape[0]}\\nTest:\\t{X_test.shape[0]}')\n",
    "print('Total:\\t{}'.format(X_train.shape[0] + X_val.shape[0] + X_test.shape[0]))"
   ]
  },
  {
   "cell_type": "code",
   "execution_count": 7,
   "metadata": {},
   "outputs": [],
   "source": [
    "# MinMax scaler scikitlearn\n",
    "mm_scaler = MinMaxScaler()\n",
    "scaled_min_max_train = mm_scaler.fit_transform(X_train)\n",
    "scaled_min_max_val = mm_scaler.transform(X_val)\n",
    "scaled_min_max_test = mm_scaler.transform(X_test)"
   ]
  },
  {
   "cell_type": "markdown",
   "metadata": {},
   "source": [
    "#### **2.5.**\n",
    "**Neural Network instance & architecture (Steps 1 and 2) |** <br>\n",
    "**Define loss funtion and optimizers (Step 3 and 4) |** <br>\n",
    "**Compile model (step 5)**"
   ]
  },
  {
   "cell_type": "code",
   "execution_count": 8,
   "metadata": {},
   "outputs": [],
   "source": [
    "with tf.device('/cpu:0'):\n",
    "    m = Sequential()\n",
    "    m.add(keras.Input(shape=(X_train.shape[1], )))\n",
    "    # Explicity initialize weights and bias\n",
    "    m.add(Dense(2, \n",
    "                activation='relu',\n",
    "                kernel_initializer=tf.keras.initializers.GlorotUniform(),\n",
    "                bias_initializer=tf.keras.initializers.Zeros()))\n",
    "    m.add(Dense(1))  # No activation function for regression\n",
    "\n",
    "    \n",
    "    nn_tf = {}\n",
    "    for k in ['GD', 'SGD', 'MiniSGD', 'RMSprop']:\n",
    "        nn_tf.update({k: tf.keras.models.clone_model(m)})\n",
    "    learning_rate = 0.01\n",
    "    nn_tf['GD'].compile(optimizer=SGD(learning_rate=learning_rate), loss='mse', metrics=['mae'])\n",
    "    nn_tf['SGD'].compile(optimizer=SGD(learning_rate=learning_rate), loss='mse', metrics=['mae'])\n",
    "    nn_tf['MiniSGD'].compile(optimizer=SGD(learning_rate=learning_rate), loss='mse', metrics=['mae'])\n",
    "    nn_tf['RMSprop'].compile(optimizer=RMSprop(learning_rate=learning_rate), loss='mse', metrics=['mae'])"
   ]
  },
  {
   "cell_type": "markdown",
   "metadata": {},
   "source": [
    "##### **2.6. NN fit**"
   ]
  },
  {
   "cell_type": "code",
   "execution_count": 9,
   "metadata": {},
   "outputs": [
    {
     "data": {
      "text/plain": [
       "[150, 1, 32]"
      ]
     },
     "execution_count": 9,
     "metadata": {},
     "output_type": "execute_result"
    }
   ],
   "source": [
    "num_epochs = 500\n",
    "batch_size_GD = 150\n",
    "batch_size_SGD = 1\n",
    "batch_size_MiniSGD = 32\n",
    "\n",
    "# Cheking batch sizes\n",
    "[batch_size_GD, batch_size_SGD, batch_size_MiniSGD]"
   ]
  },
  {
   "cell_type": "code",
   "execution_count": 10,
   "metadata": {},
   "outputs": [
    {
     "name": "stdout",
     "output_type": "stream",
     "text": [
      "Training GD model... Finished.\n",
      "Training SGD model... Finished.\n",
      "Training MiniSGD model... Finished.\n",
      "Training RMSprop model... Finished.\n"
     ]
    }
   ],
   "source": [
    "history_tf = {}\n",
    "num_epochs = 500\n",
    "\n",
    "print('Training GD model... ', end='')\n",
    "history_tf['GD'] = nn_tf['GD'].fit(x=X_train, y=y_train, validation_data=(X_val, y_val), epochs=num_epochs, batch_size=batch_size_GD, verbose=0)\n",
    "print('Finished.')\n",
    "\n",
    "print('Training SGD model... ', end='')\n",
    "history_tf['SGD'] = nn_tf['SGD'].fit(x=X_train, y=y_train, validation_data=(X_val, y_val), epochs=num_epochs, batch_size=batch_size_SGD, verbose=0)\n",
    "print('Finished.')\n",
    "\n",
    "print('Training MiniSGD model... ', end='')\n",
    "history_tf['MiniSGD'] = nn_tf['MiniSGD'].fit(x=X_train, y=y_train, validation_data=(X_val, y_val), epochs=num_epochs, batch_size=batch_size_MiniSGD, verbose=0)\n",
    "print('Finished.')\n",
    "\n",
    "print('Training RMSprop model... ', end='')\n",
    "history_tf['RMSprop'] = nn_tf['RMSprop'].fit(x=X_train, y=y_train, validation_data=(X_val, y_val), epochs=num_epochs, batch_size=batch_size_MiniSGD, verbose=0)\n",
    "print('Finished.')"
   ]
  },
  {
   "cell_type": "markdown",
   "metadata": {},
   "source": [
    "#### **2.7. Evaluate the models**"
   ]
  },
  {
   "cell_type": "code",
   "execution_count": 11,
   "metadata": {},
   "outputs": [
    {
     "name": "stdout",
     "output_type": "stream",
     "text": [
      "GD model - Loss: 0.004261180758476257, MAE: 0.047774650156497955\n",
      "SGD model - Loss: 0.004228954669088125, MAE: 0.04775114357471466\n",
      "MiniSGD model - Loss: 0.004258383065462112, MAE: 0.04777265340089798\n",
      "RMSprop model - Loss: 0.004105675965547562, MAE: 0.04764822497963905\n"
     ]
    }
   ],
   "source": [
    "for k, model in nn_tf.items():\n",
    "    loss, mae = model.evaluate(X_val, y_val, verbose=0)\n",
    "    print(f\"{k} model - Loss: {loss}, MAE: {mae}\")"
   ]
  },
  {
   "cell_type": "markdown",
   "metadata": {},
   "source": [
    "> (all above code in one cell)"
   ]
  },
  {
   "cell_type": "markdown",
   "metadata": {},
   "source": [
    "### **2.8** Training the model & Evaluate four optimizers with 5-fold cross validation \n"
   ]
  },
  {
   "cell_type": "code",
   "execution_count": 4,
   "metadata": {},
   "outputs": [
    {
     "name": "stdout",
     "output_type": "stream",
     "text": [
      "Num GPUs Available:  0\n",
      "Training fold 1/5...\n",
      "Training GD model...\n",
      "GD model - Fold 1 - Loss: 0.0038318289443850517, MAE: 0.04833867773413658\n",
      "Training SGD model...\n",
      "SGD model - Fold 1 - Loss: 0.003781544975936413, MAE: 0.047974321991205215\n",
      "Training MiniSGD model...\n",
      "MiniSGD model - Fold 1 - Loss: 0.0038379919715225697, MAE: 0.04838252067565918\n",
      "Training RMSprop model...\n",
      "RMSprop model - Fold 1 - Loss: 1.1178972721099854, MAE: 0.2840084731578827\n",
      "Training fold 2/5...\n",
      "Training GD model...\n",
      "GD model - Fold 2 - Loss: 0.0022825878113508224, MAE: 0.042462244629859924\n",
      "Training SGD model...\n",
      "SGD model - Fold 2 - Loss: 0.002327520865947008, MAE: 0.04316708818078041\n",
      "Training MiniSGD model...\n",
      "MiniSGD model - Fold 2 - Loss: 0.0022831670939922333, MAE: 0.042469341307878494\n",
      "Training RMSprop model...\n",
      "RMSprop model - Fold 2 - Loss: 0.3221275806427002, MAE: 0.5499308109283447\n",
      "Training fold 3/5...\n",
      "Training GD model...\n",
      "GD model - Fold 3 - Loss: 0.006025249138474464, MAE: 0.06447087973356247\n",
      "Training SGD model...\n",
      "SGD model - Fold 3 - Loss: 0.006015540100634098, MAE: 0.06445968151092529\n",
      "Training MiniSGD model...\n",
      "MiniSGD model - Fold 3 - Loss: 0.006020734086632729, MAE: 0.0644657164812088\n",
      "Training RMSprop model...\n",
      "RMSprop model - Fold 3 - Loss: 0.178920716047287, MAE: 0.3977120518684387\n",
      "Training fold 4/5...\n",
      "Training GD model...\n",
      "GD model - Fold 4 - Loss: 0.005121552385389805, MAE: 0.05459510162472725\n",
      "Training SGD model...\n",
      "SGD model - Fold 4 - Loss: 0.005120682995766401, MAE: 0.05459410697221756\n",
      "Training MiniSGD model...\n",
      "MiniSGD model - Fold 4 - Loss: 0.005111545789986849, MAE: 0.054583482444286346\n",
      "Training RMSprop model...\n",
      "RMSprop model - Fold 4 - Loss: 0.0049761198461055756, MAE: 0.054332297295331955\n",
      "Training fold 5/5...\n",
      "Training GD model...\n",
      "GD model - Fold 5 - Loss: 0.0023929146118462086, MAE: 0.04194408282637596\n",
      "Training SGD model...\n",
      "SGD model - Fold 5 - Loss: 0.002387634478509426, MAE: 0.04329479858279228\n",
      "Training MiniSGD model...\n",
      "MiniSGD model - Fold 5 - Loss: 0.002394723938778043, MAE: 0.04192425683140755\n",
      "Training RMSprop model...\n",
      "RMSprop model - Fold 5 - Loss: 0.0023858831264078617, MAE: 0.04204132780432701\n",
      "GD model - Average MAE: 0.05036219730973244\n",
      "SGD model - Average MAE: 0.05069799944758415\n",
      "MiniSGD model - Average MAE: 0.050365063548088077\n",
      "RMSprop model - Average MAE: 0.26560499221086503\n"
     ]
    }
   ],
   "source": [
    "import tensorflow as tf\n",
    "from tensorflow import keras\n",
    "from tensorflow.keras.layers import Dense\n",
    "from tensorflow.keras.models import Sequential\n",
    "from tensorflow.keras.optimizers import SGD, RMSprop\n",
    "\n",
    "from gpolnel.utils.utils import load_cleaned_data\n",
    "\n",
    "import matplotlib.pyplot as plt\n",
    "from sklearn.model_selection import KFold\n",
    "from sklearn.metrics import mean_absolute_error\n",
    "import numpy as np\n",
    "\n",
    "\n",
    "tf.config.set_visible_devices([], 'GPU')\n",
    "print(\"Num GPUs Available: \", len(tf.config.experimental.list_physical_devices('GPU')))\n",
    "\n",
    "# Generate  regression data\n",
    "X, y = load_cleaned_data(X_y=True)\n",
    "\n",
    "# Parameters\n",
    "learning_rate = 0.01\n",
    "num_epochs = 500\n",
    "k_folds = 5\n",
    "\n",
    "# Define the KFold cross-validator | random split\n",
    "kf = KFold(n_splits=k_folds, shuffle=True, random_state=42)\n",
    "\n",
    "# Store the results of each fold\n",
    "results = {k: [] for k in ['GD', 'SGD', 'MiniSGD', 'RMSprop']}\n",
    "histories = {k: [] for k in ['GD', 'SGD', 'MiniSGD', 'RMSprop']}\n",
    "\n",
    "for fold, (train_index, val_index) in enumerate(kf.split(X)):\n",
    "    print(f\"Training fold {fold + 1}/{k_folds}...\")\n",
    "\n",
    "    X_train, X_val = X[train_index], X[val_index]\n",
    "    y_train, y_val = y[train_index], y[val_index]\n",
    "\n",
    "    # NN instance & architecture\n",
    "    with tf.device('/cpu:0'):\n",
    "        m = Sequential()\n",
    "        m.add(keras.Input(shape=(X_train.shape[1], )))\n",
    "        m.add(Dense(2, \n",
    "                    activation='relu',\n",
    "                    kernel_initializer=tf.keras.initializers.GlorotUniform(),\n",
    "                    bias_initializer=tf.keras.initializers.Zeros()))\n",
    "        m.add(Dense(1))  # No activation function for regression\n",
    "\n",
    "        # Compile models NNs\n",
    "        nn_tf = {}\n",
    "        for k in ['GD', 'SGD', 'MiniSGD', 'RMSprop']:\n",
    "            nn_tf[k] = tf.keras.models.clone_model(m)\n",
    "        nn_tf['GD'].compile(optimizer=SGD(learning_rate=learning_rate), loss='mse', metrics=['mae'])\n",
    "        nn_tf['SGD'].compile(optimizer=SGD(learning_rate=learning_rate), loss='mse', metrics=['mae'])\n",
    "        nn_tf['MiniSGD'].compile(optimizer=SGD(learning_rate=learning_rate), loss='mse', metrics=['mae'])\n",
    "        nn_tf['RMSprop'].compile(optimizer=RMSprop(learning_rate=learning_rate), loss='mse', metrics=['mae'])\n",
    "\n",
    "\n",
    "    batch_size_GD = X_train.shape[0]\n",
    "    batch_size_SGD = 1\n",
    "    batch_size_MiniSGD = 32\n",
    "    batch_size_RMSprop =32\n",
    "\n",
    "    # Train models\n",
    "    for k in nn_tf.keys():\n",
    "        print(f'Training {k} model...')\n",
    "        history = nn_tf[k].fit(\n",
    "            x=X_train, y=y_train, validation_data=(X_val, y_val), \n",
    "            epochs=num_epochs, batch_size=eval(f'batch_size_{k}'), verbose=0\n",
    "        )\n",
    "        histories[k].append(history)\n",
    "\n",
    "        # Evaluate the model\n",
    "        loss, mae = nn_tf[k].evaluate(X_val, y_val, verbose=0)\n",
    "        results[k].append(mae)\n",
    "        print(f\"{k} model - Fold {fold + 1} - Loss: {loss}, MAE: {mae}\")\n",
    "\n",
    "# Calculate and print average MAE for each model\n",
    "for k in results.keys():\n",
    "    avg_mae = np.mean(results[k])\n",
    "    print(f\"{k} model - Average MAE: {avg_mae}\")\n"
   ]
  },
  {
   "cell_type": "code",
   "execution_count": 5,
   "metadata": {},
   "outputs": [
    {
     "name": "stdout",
     "output_type": "stream",
     "text": [
      "ANOVA test is significant, indicating differences among the models.\n",
      " Multiple Comparison of Means - Tukey HSD, FWER=0.05  \n",
      "======================================================\n",
      " group1  group2 meandiff p-adj   lower   upper  reject\n",
      "------------------------------------------------------\n",
      "     GD MiniSGD      0.0    1.0 -0.1994  0.1994  False\n",
      "     GD RMSprop   0.2152 0.0321  0.0159  0.4146   True\n",
      "     GD     SGD   0.0003    1.0 -0.1991  0.1997  False\n",
      "MiniSGD RMSprop   0.2152 0.0321  0.0158  0.4146   True\n",
      "MiniSGD     SGD   0.0003    1.0 -0.1991  0.1997  False\n",
      "RMSprop     SGD  -0.2149 0.0324 -0.4143 -0.0155   True\n",
      "------------------------------------------------------\n"
     ]
    },
    {
     "data": {
      "image/png": "[encoded data removed]",
      "text/plain": [
       "<Figure size 1000x600 with 1 Axes>"
      ]
     },
     "metadata": {},
     "output_type": "display_data"
    }
   ],
   "source": [
    "from scipy.stats import ttest_rel, f_oneway\n",
    "from statsmodels.stats.multicomp import pairwise_tukeyhsd\n",
    "\n",
    "# Perform ANOVA test\n",
    "f_statistic, p_value = f_oneway(results['GD'], results['SGD'], results['MiniSGD'], results['RMSprop'])\n",
    "\n",
    "# Check if the ANOVA test is significant\n",
    "if p_value < 0.05:\n",
    "    print(\"ANOVA test is significant, indicating differences among the models.\")\n",
    "\n",
    "    # Perform post-hoc analysis (Tukey's HSD test)\n",
    "    model_names = ['GD', 'SGD', 'MiniSGD', 'RMSprop']\n",
    "    all_results = np.concatenate([results[model] for model in model_names])\n",
    "    model_labels = np.concatenate([[model]*len(results[model]) for model in model_names])\n",
    "\n",
    "    tukey_results = pairwise_tukeyhsd(all_results, model_labels)\n",
    "    print(tukey_results)\n",
    "\n",
    "    # Plotting the results\n",
    "    tukey_results.plot_simultaneous()\n",
    "    plt.show()\n",
    "else:\n",
    "    print(\"ANOVA test is not significant, indicating no differences among the models.\")"
   ]
  },
  {
   "cell_type": "markdown",
   "metadata": {},
   "source": [
    "Based on the output, the conclusion is to build the algorithm using one of the 3 optimizers: GD, SGD, MiniSGD, as they don't have significant difference based on both ANOVA test and MAE comparison. Though, the null hypothesis for statistically significant difference between pairs of optimizers and RMSProp is rejected, meaning that there is significant difference between RMSProp and the rest of the optimizers.\n",
    "\n",
    " We choose **Stochastic Gradient Descent**."
   ]
  },
  {
   "cell_type": "markdown",
   "metadata": {},
   "source": [
    "#### **2.9 Modeling only with GD-optimizer**"
   ]
  },
  {
   "cell_type": "code",
   "execution_count": 6,
   "metadata": {},
   "outputs": [],
   "source": [
    "from sklearn.model_selection import train_test_split\n",
    "from sklearn.metrics import mean_squared_error\n",
    "\n",
    "## Data ##\n",
    "# Load data\n",
    "X, y = load_cleaned_data(X_y=True)\n",
    "\n",
    "# TRAIN - TEST(unseen)\n",
    "X_trainval, X_test, y_trainval, y_test = train_test_split(X, y, test_size=0.3, random_state=42)\n"
   ]
  },
  {
   "cell_type": "code",
   "execution_count": 16,
   "metadata": {},
   "outputs": [
    {
     "name": "stderr",
     "output_type": "stream",
     "text": [
      "c:\\Users\\andri\\AppData\\Local\\Programs\\Python\\Python312\\Lib\\site-packages\\keras\\src\\layers\\core\\dense.py:85: UserWarning: Do not pass an `input_shape`/`input_dim` argument to a layer. When using Sequential models, prefer using an `Input(shape)` object as the first layer in the model instead.\n",
      "  super().__init__(activity_regularizer=activity_regularizer, **kwargs)\n"
     ]
    },
    {
     "name": "stdout",
     "output_type": "stream",
     "text": [
      "\u001b[1m2/2\u001b[0m \u001b[32m━━━━━━━━━━━━━━━━━━━━\u001b[0m\u001b[37m\u001b[0m \u001b[1m0s\u001b[0m 49ms/step\n",
      "Gradient Descent (GD) Model:\n",
      "Test Loss: 0.0031911106780171394, Test MAE: 0.0442485474050045, Test RMSE: 0.05763113498687744\n"
     ]
    }
   ],
   "source": [
    "#### Modeling ##\n",
    "# Model parameters\n",
    "learning_rate = 0.01\n",
    "num_epochs = 500\n",
    "batch_size = 32\n",
    "\n",
    "# TRAIN - VALIDATION (without touching the test data)\n",
    "X_train, X_val, y_train, y_val = train_test_split(X_trainval, y_trainval, test_size=0.2, random_state=42)\n",
    "\n",
    "# Build the model\n",
    "model = Sequential([\n",
    "    Dense(2, activation='relu', kernel_initializer='glorot_uniform', bias_initializer='zeros', input_shape=(X_train.shape[1],)),\n",
    "    Dense(1)\n",
    "])\n",
    "\n",
    "# Compile the model with Gradient Descent optimizer\n",
    "optimizer = SGD(learning_rate=learning_rate)\n",
    "model.compile(optimizer=optimizer, loss='mse', metrics=['mae'])\n",
    "\n",
    "# Train the model with train-validation data\n",
    "history = model.fit(X_train, y_train, epochs=num_epochs, batch_size=batch_size, validation_data=(X_val, y_val), verbose=0)\n",
    "\n",
    "## Evaluation of the model on test(unseen) data ##\n",
    "# Evaluate the model on the test set\n",
    "loss, mae = model.evaluate(X_test, y_test, verbose=0)\n",
    "rmse = np.sqrt(mean_squared_error(y_test, model.predict(X_test)))\n",
    "\n",
    "# Print the evaluation results\n",
    "print(\"Gradient Descent (GD) Model:\")\n",
    "print(f\"Test Loss: {loss}, Test MAE: {mae}, Test RMSE: {rmse}\")"
   ]
  },
  {
   "cell_type": "markdown",
   "metadata": {},
   "source": [
    "##### Run 10 times => get each RMSE in a 10-dimensional vector"
   ]
  },
  {
   "cell_type": "code",
   "execution_count": 20,
   "metadata": {},
   "outputs": [
    {
     "data": {
      "text/plain": [
       "0.057923"
      ]
     },
     "execution_count": 20,
     "metadata": {},
     "output_type": "execute_result"
    }
   ],
   "source": [
    "import statistics\n",
    "\n",
    "# list of 10 RMSE-test values\n",
    "list_RMSE = [0.05796981230378151, 0.05761600658297539, 0.0578799806535244, 0.058431219309568405, 0.058440353721380234,\n",
    "             0.05767446011304855, 0.05819113180041313, 0.057966023683547974, 0.05770725756883621, 0.05763113498687744]\n",
    "\n",
    "# compute the median of list_RMSE\n",
    "median_RMSE = statistics.median(list_RMSE)\n",
    "round(median_RMSE, 6)"
   ]
  },
  {
   "cell_type": "markdown",
   "metadata": {},
   "source": [
    "> ##### **median RMSE on test set:** 0.057923\n",
    "> ##### **RMSE vector to be used for evaluation:**\n",
    "> RMSE_NN = [0.05796981230378151, 0.05761600658297539, 0.0578799806535244, 0.058431219309568405, 0.058440353721380234, 0.05767446011304855, 0.05819113180041313, 0.057966023683547974, 0.05770725756883621, 0.05763113498687744]\n"
   ]
  },
  {
   "cell_type": "code",
   "execution_count": 21,
   "metadata": {},
   "outputs": [
    {
     "data": {
      "image/png": "[encoded data removed]",
      "text/plain": [
       "<Figure size 1000x600 with 1 Axes>"
      ]
     },
     "metadata": {},
     "output_type": "display_data"
    }
   ],
   "source": [
    "# Extract RMSE values from the training history\n",
    "train_rmse = np.sqrt(history.history['loss'])\n",
    "val_rmse = np.sqrt(history.history['val_loss'])\n",
    "\n",
    "# Plot the fitness evolution (RMSE) with GD\n",
    "plt.figure(figsize=(10, 6))\n",
    "plt.plot(train_rmse, label='Train RMSE')\n",
    "plt.plot(val_rmse, label='Validation RMSE')\n",
    "plt.title('Fitness Evolution (RMSE)')\n",
    "plt.xlabel('Epochs')\n",
    "plt.ylabel('RMSE')\n",
    "#plt.ylim(bottom=-2e5, top=8e5)  # to zoom in\n",
    "plt.legend()\n",
    "plt.show()"
   ]
  },
  {
   "cell_type": "markdown",
   "metadata": {},
   "source": [
    "*Since we are not using a genetic algorithm or similar evolutionary strategy, there is no concept of \"solution size\", and thus plotting its evolution wouldn't be applicable in this case."
   ]
  }
 ],
 "metadata": {
  "kernelspec": {
   "display_name": "Python 3",
   "language": "python",
   "name": "python3"
  },
  "language_info": {
   "codemirror_mode": {
    "name": "ipython",
    "version": 3
   },
   "file_extension": ".py",
   "mimetype": "text/x-python",
   "name": "python",
   "nbconvert_exporter": "python",
   "pygments_lexer": "ipython3",
   "version": "3.12.1"
  }
 },
 "nbformat": 4,
 "nbformat_minor": 2
}
