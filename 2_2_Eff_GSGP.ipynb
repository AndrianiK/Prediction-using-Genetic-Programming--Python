{
 "cells": [
  {
   "cell_type": "markdown",
   "metadata": {},
   "source": [
    "# Neural and Evolutionary Learning - Final Project"
   ]
  },
  {
   "cell_type": "markdown",
   "metadata": {},
   "source": [
    "## Notebook 2 - Problem Applications\n",
    "\n",
    "## **2.2.** *Efficient Geometric Semantic Genetic Programming* - `Eff_GSGP`"
   ]
  },
  {
   "cell_type": "markdown",
   "metadata": {},
   "source": [
    "|       Student Name      |    Student ID   |\n",
    "|           ---           |       ---       |\n",
    "|     Andriani Kakoulli   |     20230484    |\n",
    "|       Susana Pires      |     20230540    |"
   ]
  },
  {
   "cell_type": "markdown",
   "metadata": {},
   "source": [
    "### **1. Introduction**"
   ]
  },
  {
   "cell_type": "markdown",
   "metadata": {},
   "source": [
    "> **CONTEXT** <br>\n",
    "\n",
    "Data from Automatic Milking Systems (AMSs). <br>\n",
    "\n",
    "Milk contents (fat, protein, lactose) are emasured at each milking event, to evaluate milk quality. This measurement is through a colourimetric mehtod that requires calibration every 2 weeks. <br>\n",
    "\n",
    "> **GOAL** <br>\n",
    "\n",
    "To infer the milk components - *Lactose* - from the other sensor data from the milking robots. <br>\n",
    "Develop model to **predict** Lactose content."
   ]
  },
  {
   "cell_type": "markdown",
   "metadata": {},
   "source": [
    "> **GPOL**-based implementations\n",
    "\n",
    "> **1.** **Search Space** definition <br>\n",
    "> Python dictionary with following elements: <br>\n",
    "> - *n_dims*, *function_set*, *constant_set*, *p_constants*  <br>\n",
    "> - *max_init_depth*, *max_depth*, *n_batches*, *device*  <br>\n",
    "> \n",
    "> **2.** **Problem Instance** definition  <br>\n",
    "> Instantiantion of a SML (supervised-ML) object, it requires:  <br>\n",
    "> - *fitness function*, *train data loader* <br>\n",
    "> *number of jobs for parallel processing* (*Optional: can take test data loader object.*)  <br>\n",
    ">\n",
    "> **3.** **Algorithm** definition  <br>\n",
    "> Instantiation of a Genetic Algorithm object, requires definitions of:  <br>\n",
    "> - *problem instance*  <br>\n",
    "> - *initialization methods*  <br>\n",
    "> - *crossover operators*  <br>\n",
    "> - *mutation operators*  <br>\n",
    "> - *crossover probabilities*  <br>\n",
    "> - *mutation probabilities*  <br>\n",
    "> - *elitism*  <br>\n",
    "> - *reproduction*  <br>\n",
    "> - *device on evaluations will be processed*  <br>\n",
    "> - *random seed*  <br>"
   ]
  },
  {
   "cell_type": "markdown",
   "metadata": {},
   "source": [
    "### **2. Environment preparation**"
   ]
  },
  {
   "cell_type": "markdown",
   "metadata": {},
   "source": [
    "#### **2.1. Imports**"
   ]
  },
  {
   "cell_type": "code",
   "execution_count": 1,
   "metadata": {},
   "outputs": [],
   "source": [
    "import os\n",
    "import csv\n",
    "import copy\n",
    "import json\n",
    "import time\n",
    "import math\n",
    "import torch\n",
    "import pandas as pd\n",
    "import numpy as np\n",
    "import matplotlib.pyplot as plt\n",
    "\n",
    "from torch.utils.data import TensorDataset, DataLoader\n",
    "\n",
    "# algorithms\n",
    "# GSGP instantiation\n",
    "from gpolnel.algorithms.genetic_algorithm import GSGP, GeneticAlgorithm\n",
    "\n",
    "# operators\n",
    "#from gpolnel.operators.initializers import grow, ERC, Terminal, prm_grow\n",
    "from gpolnel.operators.variators import prm_gs_xo, prm_gs_mtn, prm_efficient_gs_xo, prm_efficient_gs_mtn\n",
    "from gpolnel.operators.selectors import prm_tournament\n",
    "from gpolnel.operators.initializers_for_GP import grow, ERC, Terminal, prm_grow, full, prm_full\n",
    "\n",
    "# problems\n",
    "from gpolnel.problems.inductive_programming import SMLGS, SML\n",
    "\n",
    "# utils\n",
    "from gpolnel.utils.utils import train_test_split\n",
    "from gpolnel.utils.ffunctions import Ffunctions\n",
    "from gpolnel.utils.tree import Tree\n",
    "from gpolnel.utils.inductive_programming import function_map, prm_reconstruct_tree, _get_tree_depth, _execute_tree\n",
    "from gpolnel.utils.utils import load_cleaned_data\n",
    "from gpolnel.utils.load_project_datasets import load_ams"
   ]
  },
  {
   "cell_type": "markdown",
   "metadata": {},
   "source": [
    "#### **2.2. Global settings**"
   ]
  },
  {
   "cell_type": "code",
   "execution_count": 2,
   "metadata": {},
   "outputs": [],
   "source": [
    "seed = 6\n",
    "\n",
    "# Susana - my device will always be cpu because my pc doesn't have a NVIDIA (nor a recent AMD) GPU.\n",
    "device = 'cuda' if torch.cuda.is_available() else 'cpu'"
   ]
  },
  {
   "cell_type": "code",
   "execution_count": 3,
   "metadata": {},
   "outputs": [],
   "source": [
    "# RUN 1 - seed = 6\n",
    "# RUN 2 - seed=8\n",
    "# RUN 3 - seed=11\n",
    "# RUN 4 - seed=12\n",
    "# RUN 5 - seed=21\n",
    "# RUN 6 - seed=27\n",
    "# RUN 7 - seed=29\n",
    "# RUN 8 - seed=33\n",
    "# RUN 9 - seed=66\n",
    "# RUN 10 - seed=91"
   ]
  },
  {
   "cell_type": "markdown",
   "metadata": {},
   "source": [
    "#### **2.3. Data load**"
   ]
  },
  {
   "cell_type": "markdown",
   "metadata": {},
   "source": [
    "To use the data loader<br>\n",
    "- `load_ams` on file *load_datasets* on folder *utils*."
   ]
  },
  {
   "cell_type": "code",
   "execution_count": 4,
   "metadata": {},
   "outputs": [],
   "source": [
    "# Define parameters for the data usage\n",
    "shuffle, p_test, p_val, n_batches_pct = True, .3, .3, 1"
   ]
  },
  {
   "cell_type": "code",
   "execution_count": 5,
   "metadata": {},
   "outputs": [
    {
     "name": "stdout",
     "output_type": "stream",
     "text": [
      "torch.Size([177, 14]) torch.Size([177])\n",
      "cpu cpu\n"
     ]
    }
   ],
   "source": [
    "# AMS dataset\n",
    "X, y = load_ams(X_y=True, device=device)\n",
    "\n",
    "print(X.shape, y.shape)\n",
    "print(X.device, y.device)"
   ]
  },
  {
   "cell_type": "code",
   "execution_count": 6,
   "metadata": {},
   "outputs": [],
   "source": [
    "# print(X)\n",
    "# print(y)"
   ]
  },
  {
   "cell_type": "markdown",
   "metadata": {},
   "source": [
    "#### **2.4. Data split**"
   ]
  },
  {
   "cell_type": "markdown",
   "metadata": {},
   "source": [
    "Since we are working with a very small dataset, the best decision for the split is by K-fold Cross Validation, but first we will use the Hold-Out Method. Then, after everything is running smoothly, we might adapt to Cross Validation."
   ]
  },
  {
   "cell_type": "markdown",
   "metadata": {},
   "source": [
    "Using indices for data split, because efficient GSGP doesn't use batch training in GPOL. <br>\n",
    "Due to some incongruencies while testing cross validation and repeated iterations for the algorithms, our approach was: <br>\n",
    "- Split the data into sets;\n",
    "- Get the results (rmse);\n",
    "- Change the random seed;\n",
    "- Re-run the whole notebook (to guarantee the changes in split and randomness on the rest);\n",
    "- Store the results for 10 runs for each combination of parameters;\n",
    "- Discuss the results."
   ]
  },
  {
   "cell_type": "code",
   "execution_count": 7,
   "metadata": {},
   "outputs": [
    {
     "name": "stdout",
     "output_type": "stream",
     "text": [
      "Batch size: 87\n",
      "Total batches: 1\n",
      "\n",
      "[torch.Size([87]), torch.Size([37]), torch.Size([53])]\n",
      "Train:\t87\n",
      "Val:\t37\n",
      "Test:\t53\n",
      "Total:\t177\n"
     ]
    }
   ],
   "source": [
    "# Train and test sets\n",
    "train_idx, test_idx = train_test_split(\n",
    "    X=X, y=y, p_test=p_test, shuffle=shuffle, indices_only=True, seed=seed)\n",
    "\n",
    "# Train and val sets\n",
    "val_idx = train_idx[:int(train_idx.shape[0]*p_val)]\n",
    "train_idx = train_idx[int(train_idx.shape[0]*p_val):]\n",
    "total_batches = 1\n",
    "batch_size = train_idx.shape[0]\n",
    "print('Batch size: {}\\nTotal batches: {}\\n'.format(batch_size, total_batches))\n",
    "\n",
    "print([train_idx.shape, val_idx.shape, test_idx.shape])\n",
    "\n",
    "print(f'Train:\\t{train_idx.shape[0]}\\nVal:\\t{val_idx.shape[0]}\\nTest:\\t{test_idx.shape[0]}')\n",
    "print('Total:\\t{}'.format(train_idx.shape[0] + val_idx.shape[0] + test_idx.shape[0]))"
   ]
  },
  {
   "cell_type": "markdown",
   "metadata": {},
   "source": [
    "### **3. Approach**"
   ]
  },
  {
   "cell_type": "markdown",
   "metadata": {},
   "source": [
    "#### **3.1. Search Space Definition**"
   ]
  },
  {
   "cell_type": "code",
   "execution_count": 8,
   "metadata": {},
   "outputs": [],
   "source": [
    "# functional set\n",
    "fset = [function_map['add'], function_map['sub'], function_map['mul'], function_map['div'], function_map['exp'],\n",
    "            function_map['log']]\n",
    "\n",
    "# search space\n",
    "sspace_sml_gs = {\n",
    "    'n_dims': X.shape[1],\n",
    "    'function_set': fset,\n",
    "    'constant_set': ERC(-1., 1.),\n",
    "    'p_constants': 0.1, # probability of using a constant = 10% , bcs the features will be more informative\n",
    "    'max_init_depth': 3,\n",
    "    'device': device}"
   ]
  },
  {
   "cell_type": "markdown",
   "metadata": {},
   "source": [
    "#### **3.2. SML Problem Instance**"
   ]
  },
  {
   "cell_type": "code",
   "execution_count": 9,
   "metadata": {},
   "outputs": [],
   "source": [
    "# Uses the dataset instead of torch DataLoaders\n",
    "pi_sml_gs = SMLGS(\n",
    "    sspace=sspace_sml_gs,\n",
    "    # def of fitness function (rmse: decrese the error as it's a regression prediction problem)\n",
    "    # we can use another fitness function - decision is problem dependent\n",
    "    ffunction=Ffunctions('rmse'),\n",
    "    X=X, y=y,\n",
    "    train_indices=train_idx,\n",
    "    test_indices=val_idx)       # changed to validation because we need test_idx at the end"
   ]
  },
  {
   "cell_type": "markdown",
   "metadata": {},
   "source": [
    "#### **3.3. Algorithm instantiation**"
   ]
  },
  {
   "cell_type": "markdown",
   "metadata": {},
   "source": [
    "##### GSM Steps"
   ]
  },
  {
   "cell_type": "markdown",
   "metadata": {},
   "source": [
    "* `ms`:<br>\n",
    "*A 1D tensor of length m.* <br> \n",
    "*If it is a single-valued tensor, then the mutation step equals ms;* <br>\n",
    "*If it is a _1D tensor of length m_, then the mutation step is selected from it at random, at each call of gs_mnt.*"
   ]
  },
  {
   "cell_type": "code",
   "execution_count": 10,
   "metadata": {},
   "outputs": [
    {
     "name": "stdout",
     "output_type": "stream",
     "text": [
      "tensor([0.2500, 0.5000, 0.7500, 1.0000, 1.2500, 1.5000, 1.7500, 2.0000, 2.2500,\n",
      "        2.5000, 2.7500, 3.0000, 3.2500, 3.5000, 3.7500, 4.0000, 4.2500, 4.5000,\n",
      "        4.7500, 5.0000])\n"
     ]
    }
   ],
   "source": [
    "# Define GSM (geometric semantic mutation) steps \n",
    "to, by = 5.0, 0.25\n",
    "ms = torch.arange(by, to + by, by, device=device)\n",
    "print(ms)"
   ]
  },
  {
   "cell_type": "markdown",
   "metadata": {},
   "source": [
    "##### Log properties"
   ]
  },
  {
   "cell_type": "markdown",
   "metadata": {},
   "source": [
    "Setting up log properties, because when reconstructing the tree, we need the paths for persisting objects."
   ]
  },
  {
   "cell_type": "code",
   "execution_count": 11,
   "metadata": {},
   "outputs": [
    {
     "name": "stdout",
     "output_type": "stream",
     "text": [
      "['./log/eff_gsgp_project_test.log', './log/reconstruct\\\\rts', './log/reconstruct\\\\init_pop']\n"
     ]
    }
   ],
   "source": [
    "# Setup logging properties\n",
    "file_dir = './log/'\n",
    "file_name = 'eff_gsgp_project_test.log'\n",
    "log_path = file_dir + file_name\n",
    "\n",
    "# If GSGP solution should be reconstructed, the paths for persisting \n",
    "# the needed objects should be set.\n",
    "path_rts = os.path.join(file_dir, 'reconstruct', 'rts')\n",
    "path_init_pop = os.path.join(file_dir, 'reconstruct', 'init_pop')\n",
    "\n",
    "if os.path.exists(file_dir + file_name):\n",
    "    os.remove(file_dir + file_name)\n",
    "if not os.path.exists(file_dir):\n",
    "    os.makedirs(file_dir)\n",
    "\n",
    "for path_i in [file_dir, path_init_pop, path_rts]:\n",
    "    if not os.path.exists(path_i):\n",
    "        os.makedirs(path_i)\n",
    "\n",
    "print([log_path, path_rts, path_init_pop])"
   ]
  },
  {
   "cell_type": "markdown",
   "metadata": {},
   "source": [
    "##### **Algorithm Definition**"
   ]
  },
  {
   "cell_type": "code",
   "execution_count": 12,
   "metadata": {},
   "outputs": [],
   "source": [
    "# Check how different values affect the performance\n",
    "ps = 100                                                                              # ps = 10  //  100\n",
    "selection_pressure = .07\n",
    "mutation_prob = 0.1\n",
    "xo_prob = 0.9\n",
    "has_elitism = True                                                                     # True  //  False \n",
    "allow_reproduction = False\n",
    "\n",
    "mheuristic = GSGP(\n",
    "    pi=pi_sml_gs,\n",
    "    \n",
    "    # If individuals should be reconstructed, it must be defined before fitting the algorithm.\n",
    "    # Defined on cell above\n",
    "    path_init_pop=path_init_pop, \n",
    "    path_rts=path_rts, \n",
    "    \n",
    "    # Initializer - it can be the same tree initializer as traditional GP.              # grow  //  full\n",
    "    initializer=grow,\n",
    "    \n",
    "    # Selector - it can be the same GP selector as tradicional GP.\n",
    "    selector=prm_tournament(pressure=selection_pressure),\n",
    "    \n",
    "    # Other Algorithm hyperparameters\n",
    "    pop_size=ps,\n",
    "    p_m=mutation_prob,\n",
    "    p_c=xo_prob,\n",
    "    elitism=has_elitism,\n",
    "    reproduction=allow_reproduction,  # False = or xo or mutation\n",
    "    device=device,\n",
    "    seed=seed,\n",
    "    \n",
    "    # Efficient Crossover\n",
    "    crossover=prm_efficient_gs_xo(X, prm_grow(sspace=pi_sml_gs.sspace)),                # prm_grow  //  prm_full\n",
    "    \n",
    "    # Efficient Mutation\n",
    "    mutator=prm_efficient_gs_mtn(X, prm_grow(sspace=pi_sml_gs.sspace), ms))             # prm_grow  //  prm_full"
   ]
  },
  {
   "cell_type": "markdown",
   "metadata": {},
   "source": [
    "##### GSGP Initialization"
   ]
  },
  {
   "cell_type": "code",
   "execution_count": 13,
   "metadata": {},
   "outputs": [],
   "source": [
    "mheuristic._initialize()"
   ]
  },
  {
   "cell_type": "code",
   "execution_count": 14,
   "metadata": {},
   "outputs": [
    {
     "data": {
      "text/plain": [
       "tensor(0.8970)"
      ]
     },
     "execution_count": 14,
     "metadata": {},
     "output_type": "execute_result"
    }
   ],
   "source": [
    "mheuristic.best_sol.fit"
   ]
  },
  {
   "cell_type": "code",
   "execution_count": 15,
   "metadata": {},
   "outputs": [
    {
     "data": {
      "text/plain": [
       "tensor([6.0259, 5.8777, 5.7526, 5.8916, 6.0568, 5.8833, 5.7683, 5.8171, 5.9216,\n",
       "        5.6971, 5.6204, 5.8944, 5.6836, 5.6630, 5.9108, 5.7589, 5.5215, 5.6595,\n",
       "        5.9162, 5.7683, 5.8230, 5.8289, 5.7301, 5.9506, 5.9738, 5.9189, 5.6525,\n",
       "        5.7004, 5.6525, 5.6937, 5.8201, 5.6276, 5.8889, 5.9636, 5.6768, 5.7714,\n",
       "        5.6454, 5.7961, 5.6348, 5.6971, 5.7961, 6.3801, 5.7268, 5.7589, 5.6870,\n",
       "        5.7268, 5.7462, 5.6870, 5.9108, 5.6525, 5.8665, 5.8999, 5.8749, 5.6525,\n",
       "        5.6904, 5.6490, 5.7137, 5.7526, 6.0186, 5.8493, 5.7526, 5.7038, 5.8889,\n",
       "        6.0234, 5.6560, 5.7494, 5.6904, 5.5607, 5.7589, 5.6348, 5.7203, 5.7268,\n",
       "        5.7104, 5.8636, 5.6560, 6.0684, 5.9789, 5.6904, 5.8636, 5.7268, 5.6560,\n",
       "        5.8141, 5.8435, 5.7462, 5.7526, 5.9322, 5.9865, 5.6384, 5.7714, 5.6630,\n",
       "        5.7301, 5.6595, 5.9713, 5.6595, 5.6802, 5.8081, 5.6630, 5.7170, 5.8493,\n",
       "        5.8464, 5.8944, 5.7398, 5.6525, 5.7526, 5.7398, 5.6904, 5.7900, 5.7557,\n",
       "        5.7746, 5.7838, 5.7004, 6.0210, 5.8464, 5.8289, 5.6870, 6.0753, 5.9108,\n",
       "        5.7104, 5.7714, 5.8889, 5.7333, 5.8111, 5.7137, 5.7398, 6.1442, 5.7746,\n",
       "        5.6768, 5.7652, 5.6971, 6.0088, 5.7557, 5.7714, 5.9162, 5.7746, 5.6454,\n",
       "        5.5175, 5.7930, 5.7526, 5.6870, 6.0426, 5.7714, 5.9532, 5.6595, 5.9243,\n",
       "        5.7071, 5.7652, 5.8579, 5.9480, 5.8377, 5.9081, 5.7268, 5.7714, 5.6937,\n",
       "        5.8916, 5.6802, 5.7004, 5.7004, 5.6768, 5.7038, 5.8348, 5.7038, 5.6836,\n",
       "        5.7714, 5.9814, 5.7838, 5.7038, 5.9189, 5.7777, 5.7714, 5.6490, 5.9989,\n",
       "        5.8081, 5.8464, 5.6454, 5.7004, 5.7203, 5.7333])"
      ]
     },
     "execution_count": 15,
     "metadata": {},
     "output_type": "execute_result"
    }
   ],
   "source": [
    "mheuristic.best_sol.repr_"
   ]
  },
  {
   "cell_type": "markdown",
   "metadata": {},
   "source": [
    "##### **Solve**"
   ]
  },
  {
   "cell_type": "code",
   "execution_count": 16,
   "metadata": {},
   "outputs": [
    {
     "name": "stdout",
     "output_type": "stream",
     "text": [
      "-------------------------------------------------------------------------------------------------------\n",
      "           |                    Best solution                      |            Population            |\n",
      "-------------------------------------------------------------------------------------------------------\n",
      "Generation | Depth    Fitness          Test Fitness         Timing | AVG Fitness           STD Fitness\n",
      "-------------------------------------------------------------------------------------------------------\n",
      "0          | 1        0.7191           0.734892              0.161 | 5854.08                   22522.6\n",
      "1          | 4        0.622362         0.650444              0.121 | 2.98773                   1.53825\n",
      "2          | 7        0.554691         0.593018              0.127 | 1.13991                  0.592025\n",
      "3          | 8        0.436017         0.362574              0.130 | 0.921798                 0.786015\n",
      "4          | 12       0.223167         0.235637              0.156 | 0.58183                   0.22384\n",
      "5          | 14       0.223142         0.235514              0.157 | 0.57642                  0.674653\n",
      "6          | 18       0.21738          0.218369              0.172 | 0.45907                  0.678467\n",
      "7          | 22       0.212818         0.219964              0.133 | 0.492298                 0.898985\n",
      "8          | 24       0.208765         0.217788              0.267 | 0.486697                 0.916071\n",
      "9          | 26       0.203011         0.218039              0.110 | 0.577014                  1.10422\n",
      "10         | 28       0.203011         0.218039              0.157 | 0.433528                 0.759594\n",
      "11         | 32       0.203011         0.218039              0.142 | 0.393947                 0.672844\n",
      "12         | 36       0.203002         0.218                 0.125 | 0.531388                  1.00197\n",
      "13         | 38       0.202998         0.218                 0.132 | 0.457562                 0.852512\n",
      "14         | 38       0.202997         0.218001              0.214 | 0.515415                  1.01615\n",
      "                                                                                                    \n",
      "Best solution RMSE fitness: 0.20 train, 0.22 val.\n",
      "\n"
     ]
    }
   ],
   "source": [
    "mheuristic.solve(n_iter=100,\n",
    "                tol=0.001,\n",
    "                test_elite=True, \n",
    "                verbose=3,\n",
    "                log=2,\n",
    "                log_path=log_path)\n",
    "\n",
    "print(' '*100)\n",
    "print('Best solution RMSE fitness: {:.2f} train, {:.2f} val.\\n'.format(mheuristic.best_sol.fit.item(), mheuristic.best_sol.test_fit.item()))"
   ]
  },
  {
   "cell_type": "markdown",
   "metadata": {},
   "source": [
    "##### Reconstruction"
   ]
  },
  {
   "cell_type": "code",
   "execution_count": 17,
   "metadata": {},
   "outputs": [],
   "source": [
    "# mheuristic.best_sol.repr_\n",
    "# mheuristic._set_best_sol()"
   ]
  },
  {
   "cell_type": "code",
   "execution_count": 18,
   "metadata": {},
   "outputs": [],
   "source": [
    "# Persists evolution history for reconsctruction\n",
    "# Change name when final run for project\n",
    "mheuristic.write_history(file_dir + 'GSGP_history_trials_tt.csv')"
   ]
  },
  {
   "cell_type": "code",
   "execution_count": 19,
   "metadata": {},
   "outputs": [
    {
     "data": {
      "text/html": [
       "<div>\n",
       "<style scoped>\n",
       "    .dataframe tbody tr th:only-of-type {\n",
       "        vertical-align: middle;\n",
       "    }\n",
       "\n",
       "    .dataframe tbody tr th {\n",
       "        vertical-align: top;\n",
       "    }\n",
       "\n",
       "    .dataframe thead th {\n",
       "        text-align: right;\n",
       "    }\n",
       "</style>\n",
       "<table border=\"1\" class=\"dataframe\">\n",
       "  <thead>\n",
       "    <tr style=\"text-align: right;\">\n",
       "      <th></th>\n",
       "      <th>Iter</th>\n",
       "      <th>Operator</th>\n",
       "      <th>T1</th>\n",
       "      <th>T2</th>\n",
       "      <th>Tr</th>\n",
       "      <th>ms</th>\n",
       "      <th>Fitness</th>\n",
       "    </tr>\n",
       "  </thead>\n",
       "  <tbody>\n",
       "    <tr>\n",
       "      <th>6_1_o1_xo_1</th>\n",
       "      <td>1</td>\n",
       "      <td>crossover</td>\n",
       "      <td>6_0_30</td>\n",
       "      <td>6_0_4</td>\n",
       "      <td>6_1_rt_xo_0</td>\n",
       "      <td>-1.00</td>\n",
       "      <td>3.197184</td>\n",
       "    </tr>\n",
       "    <tr>\n",
       "      <th>6_1_o2_xo_2</th>\n",
       "      <td>1</td>\n",
       "      <td>crossover</td>\n",
       "      <td>6_0_4</td>\n",
       "      <td>6_0_30</td>\n",
       "      <td>6_1_rt_xo_0</td>\n",
       "      <td>-1.00</td>\n",
       "      <td>3.874575</td>\n",
       "    </tr>\n",
       "    <tr>\n",
       "      <th>6_1_o1_xo_4</th>\n",
       "      <td>1</td>\n",
       "      <td>crossover</td>\n",
       "      <td>6_0_88</td>\n",
       "      <td>6_0_52</td>\n",
       "      <td>6_1_rt_xo_3</td>\n",
       "      <td>-1.00</td>\n",
       "      <td>4.815236</td>\n",
       "    </tr>\n",
       "    <tr>\n",
       "      <th>6_1_o2_xo_5</th>\n",
       "      <td>1</td>\n",
       "      <td>crossover</td>\n",
       "      <td>6_0_52</td>\n",
       "      <td>6_0_88</td>\n",
       "      <td>6_1_rt_xo_3</td>\n",
       "      <td>-1.00</td>\n",
       "      <td>1.150961</td>\n",
       "    </tr>\n",
       "    <tr>\n",
       "      <th>6_1_o1_xo_7</th>\n",
       "      <td>1</td>\n",
       "      <td>crossover</td>\n",
       "      <td>6_0_2</td>\n",
       "      <td>6_0_22</td>\n",
       "      <td>6_1_rt_xo_6</td>\n",
       "      <td>-1.00</td>\n",
       "      <td>4.229680</td>\n",
       "    </tr>\n",
       "    <tr>\n",
       "      <th>...</th>\n",
       "      <td>...</td>\n",
       "      <td>...</td>\n",
       "      <td>...</td>\n",
       "      <td>...</td>\n",
       "      <td>...</td>\n",
       "      <td>...</td>\n",
       "      <td>...</td>\n",
       "    </tr>\n",
       "    <tr>\n",
       "      <th>6_14_o2_xo_2172</th>\n",
       "      <td>14</td>\n",
       "      <td>crossover</td>\n",
       "      <td>6_13_o1_xo_2010</td>\n",
       "      <td>6_13_o1_xo_2022</td>\n",
       "      <td>6_14_rt_xo_2170</td>\n",
       "      <td>-1.00</td>\n",
       "      <td>0.203006</td>\n",
       "    </tr>\n",
       "    <tr>\n",
       "      <th>6_14_o1_mtn_2174</th>\n",
       "      <td>14</td>\n",
       "      <td>mutation</td>\n",
       "      <td>6_13_o1_xo_1965</td>\n",
       "      <td>-1.0</td>\n",
       "      <td>6_14_rt_mtn_2173</td>\n",
       "      <td>2.75</td>\n",
       "      <td>1.221659</td>\n",
       "    </tr>\n",
       "    <tr>\n",
       "      <th>6_14_o1_mtn_2176</th>\n",
       "      <td>14</td>\n",
       "      <td>mutation</td>\n",
       "      <td>6_13_o1_xo_2022</td>\n",
       "      <td>-1.0</td>\n",
       "      <td>6_14_rt_mtn_2175</td>\n",
       "      <td>5.00</td>\n",
       "      <td>5.009321</td>\n",
       "    </tr>\n",
       "    <tr>\n",
       "      <th>6_14_o1_xo_2178</th>\n",
       "      <td>14</td>\n",
       "      <td>crossover</td>\n",
       "      <td>6_13_o1_xo_1881</td>\n",
       "      <td>6_13_o2_xo_1911</td>\n",
       "      <td>6_14_rt_xo_2177</td>\n",
       "      <td>-1.00</td>\n",
       "      <td>0.202997</td>\n",
       "    </tr>\n",
       "    <tr>\n",
       "      <th>6_14_o2_xo_2179</th>\n",
       "      <td>14</td>\n",
       "      <td>crossover</td>\n",
       "      <td>6_13_o2_xo_1911</td>\n",
       "      <td>6_13_o1_xo_1881</td>\n",
       "      <td>6_14_rt_xo_2177</td>\n",
       "      <td>-1.00</td>\n",
       "      <td>0.203015</td>\n",
       "    </tr>\n",
       "  </tbody>\n",
       "</table>\n",
       "<p>1400 rows × 7 columns</p>\n",
       "</div>"
      ],
      "text/plain": [
       "                  Iter   Operator               T1               T2  \\\n",
       "6_1_o1_xo_1          1  crossover           6_0_30            6_0_4   \n",
       "6_1_o2_xo_2          1  crossover            6_0_4           6_0_30   \n",
       "6_1_o1_xo_4          1  crossover           6_0_88           6_0_52   \n",
       "6_1_o2_xo_5          1  crossover           6_0_52           6_0_88   \n",
       "6_1_o1_xo_7          1  crossover            6_0_2           6_0_22   \n",
       "...                ...        ...              ...              ...   \n",
       "6_14_o2_xo_2172     14  crossover  6_13_o1_xo_2010  6_13_o1_xo_2022   \n",
       "6_14_o1_mtn_2174    14   mutation  6_13_o1_xo_1965             -1.0   \n",
       "6_14_o1_mtn_2176    14   mutation  6_13_o1_xo_2022             -1.0   \n",
       "6_14_o1_xo_2178     14  crossover  6_13_o1_xo_1881  6_13_o2_xo_1911   \n",
       "6_14_o2_xo_2179     14  crossover  6_13_o2_xo_1911  6_13_o1_xo_1881   \n",
       "\n",
       "                                Tr    ms   Fitness  \n",
       "6_1_o1_xo_1            6_1_rt_xo_0 -1.00  3.197184  \n",
       "6_1_o2_xo_2            6_1_rt_xo_0 -1.00  3.874575  \n",
       "6_1_o1_xo_4            6_1_rt_xo_3 -1.00  4.815236  \n",
       "6_1_o2_xo_5            6_1_rt_xo_3 -1.00  1.150961  \n",
       "6_1_o1_xo_7            6_1_rt_xo_6 -1.00  4.229680  \n",
       "...                            ...   ...       ...  \n",
       "6_14_o2_xo_2172    6_14_rt_xo_2170 -1.00  0.203006  \n",
       "6_14_o1_mtn_2174  6_14_rt_mtn_2173  2.75  1.221659  \n",
       "6_14_o1_mtn_2176  6_14_rt_mtn_2175  5.00  5.009321  \n",
       "6_14_o1_xo_2178    6_14_rt_xo_2177 -1.00  0.202997  \n",
       "6_14_o2_xo_2179    6_14_rt_xo_2177 -1.00  0.203015  \n",
       "\n",
       "[1400 rows x 7 columns]"
      ]
     },
     "execution_count": 19,
     "metadata": {},
     "output_type": "execute_result"
    }
   ],
   "source": [
    "# Read evolution history for reconstruction\n",
    "hist_eff_gsgp = pd.read_csv(file_dir + 'GSGP_history_trials_tt.csv', index_col=0)\n",
    "hist_eff_gsgp"
   ]
  },
  {
   "cell_type": "code",
   "execution_count": 20,
   "metadata": {},
   "outputs": [],
   "source": [
    "# reconstructor = prm_reconstruct_tree(hist_eff_gsgp, path_init_pop=path_init_pop, path_rts=path_rts, device='cpu')\n",
    "# repr_ = reconstructor(hist_eff_gsgp['Fitness'].idxmin())\n",
    "\n",
    "# len(repr_)"
   ]
  },
  {
   "cell_type": "markdown",
   "metadata": {},
   "source": [
    "**Dictionary for the features:** <br>\n",
    "lactation: 'lct' <br>\n",
    "delivery_age_years: 'dlv_ay' <br>\n",
    "'dim' <br>\n",
    "dry_days: 'dd' <br>\n",
    "forage_kg_day: 'fkd' <br>\n",
    "rumination_min_day: 'rmd' <br>\n",
    "milk_kg_day: 'mkd' <br>\n",
    "milk_kg_min_robot: 'mkmr' <br>\n",
    "milkings_day: 'md' <br>\n",
    "errors_by_100_milkings: 'er_100m' <br>\n",
    "high_cdt_by_100_milkings: 'hcdt_100m' <br>\n",
    "watery_by_100_milkings: 'w100m' <br>\n",
    "refusals_by_milking: 'ref_bm' <br>\n",
    "colostrum_separated_kg: 'cskg' <br>\n",
    "\n",
    "'lct', 'dlv_ay', 'dim', 'dd', 'fkd', 'rmd', 'mkd', 'mkmr', 'md', 'er_100m', 'hcdt_100m', 'w100m', ref_bm', 'cskg'"
   ]
  },
  {
   "cell_type": "code",
   "execution_count": 21,
   "metadata": {},
   "outputs": [],
   "source": [
    "# data_fts = ['lct', 'dlv_ay', 'dim', 'dd', 'fkd', 'rmd', 'mkd', 'mkmr', 'md', 'er_100m', 'hcdt_100m', 'w100m', 'ref_bm', 'cskg']\n",
    "\n",
    "# t = Tree(repr_= repr_)\n",
    "\n",
    "# t.printTree()\n",
    "\n",
    "# print('-'*100)\n",
    "\n",
    "# t.printTree(feature_names=data_fts)"
   ]
  },
  {
   "cell_type": "markdown",
   "metadata": {},
   "source": [
    "##### GP Evolution"
   ]
  },
  {
   "cell_type": "code",
   "execution_count": 22,
   "metadata": {},
   "outputs": [],
   "source": [
    "# Open log file\n",
    "rows = []\n",
    "with open(log_path, 'r') as file:\n",
    "    # Create a CSV reader object\n",
    "    csv_reader = csv.reader(file)\n",
    "    # Iterate over each row in the CSV file\n",
    "    for row in csv_reader:\n",
    "        # Process each row (each row is a list of values)\n",
    "        rows.append(row)\n",
    "\n",
    "# Fitness history\n",
    "history_fits = [float(row[7].split('(')[1].split(')')[0]) for row in rows]\n",
    "\n",
    "# Test fitness history\n",
    "history_val_fits = [float(row[7].split('(')[1].split(')')[0]) for row in rows]\n",
    "\n",
    "# Solution size history\n",
    "#history_sizes = [float(row[6].split('(')[1].split(')')[0]) for row in rows]\n",
    "\n",
    "# Runtime\n",
    "#history_timing = [float(row[5]) for row in rows]"
   ]
  },
  {
   "cell_type": "code",
   "execution_count": 23,
   "metadata": {},
   "outputs": [
    {
     "data": {
      "image/png": "[encoded data removed]",
      "text/plain": [
       "<Figure size 1000x400 with 1 Axes>"
      ]
     },
     "metadata": {},
     "output_type": "display_data"
    },
    {
     "name": "stdout",
     "output_type": "stream",
     "text": [
      "Best solution RMSE fitness: 0.20 train, 0.22 test.\n",
      "\n"
     ]
    }
   ],
   "source": [
    "plt.figure(figsize=(10, 4))\n",
    "\n",
    "plt.plot(history_fits, label='Train')\n",
    "plt.plot(history_val_fits, label='Validation')\n",
    "plt.title('Fitness evolution')\n",
    "plt.xlabel('Generation')\n",
    "plt.ylabel('RMSE')\n",
    "plt.ylim(bottom=0, top=4)\n",
    "plt.legend()\n",
    "plt.show()\n",
    "\n",
    "print('Best solution RMSE fitness: {:.2f} train, {:.2f} test.\\n'.format(mheuristic.best_sol.fit.item(), mheuristic.best_sol.test_fit.item()))"
   ]
  },
  {
   "cell_type": "markdown",
   "metadata": {},
   "source": [
    "### **4. Results - Test**"
   ]
  },
  {
   "cell_type": "markdown",
   "metadata": {},
   "source": [
    "##### **Processing**"
   ]
  },
  {
   "cell_type": "code",
   "execution_count": 24,
   "metadata": {},
   "outputs": [],
   "source": [
    "# Evaluate the final solution\n",
    "best_individual = mheuristic.best_sol\n",
    "best_solution = best_individual.repr_"
   ]
  },
  {
   "cell_type": "code",
   "execution_count": 25,
   "metadata": {},
   "outputs": [],
   "source": [
    "y_pred = _execute_tree(best_solution, X=test_idx)"
   ]
  },
  {
   "cell_type": "code",
   "execution_count": 26,
   "metadata": {},
   "outputs": [],
   "source": [
    "y_test = y[test_idx]"
   ]
  },
  {
   "cell_type": "code",
   "execution_count": 27,
   "metadata": {},
   "outputs": [],
   "source": [
    "import warnings\n",
    "warnings.filterwarnings(\"ignore\")"
   ]
  },
  {
   "cell_type": "markdown",
   "metadata": {},
   "source": [
    "##### **Results**"
   ]
  },
  {
   "cell_type": "code",
   "execution_count": 28,
   "metadata": {},
   "outputs": [
    {
     "name": "stdout",
     "output_type": "stream",
     "text": [
      "Final RMSE on test set: 0.17301790416240692\n"
     ]
    }
   ],
   "source": [
    "# Compute the final performance on the test set\n",
    "final_rmse = torch.sqrt(torch.mean((y_pred - torch.tensor(y_test, dtype=torch.float32).to(device)) ** 2)).item()\n",
    "\n",
    "print(f'Final RMSE on test set: {final_rmse}')"
   ]
  },
  {
   "cell_type": "code",
   "execution_count": 29,
   "metadata": {},
   "outputs": [
    {
     "data": {
      "text/html": [
       "<div>\n",
       "<style scoped>\n",
       "    .dataframe tbody tr th:only-of-type {\n",
       "        vertical-align: middle;\n",
       "    }\n",
       "\n",
       "    .dataframe tbody tr th {\n",
       "        vertical-align: top;\n",
       "    }\n",
       "\n",
       "    .dataframe thead th {\n",
       "        text-align: right;\n",
       "    }\n",
       "</style>\n",
       "<table border=\"1\" class=\"dataframe\">\n",
       "  <thead>\n",
       "    <tr style=\"text-align: right;\">\n",
       "      <th></th>\n",
       "      <th>0</th>\n",
       "      <th>1</th>\n",
       "      <th>2</th>\n",
       "      <th>3</th>\n",
       "      <th>4</th>\n",
       "      <th>5</th>\n",
       "      <th>6</th>\n",
       "      <th>7</th>\n",
       "      <th>8</th>\n",
       "      <th>9</th>\n",
       "    </tr>\n",
       "  </thead>\n",
       "  <tbody>\n",
       "    <tr>\n",
       "      <th>grow | ps=10 | elitism=True</th>\n",
       "      <td>0.717242</td>\n",
       "      <td>0.972592</td>\n",
       "      <td>1.078354</td>\n",
       "      <td>4.874651</td>\n",
       "      <td>1.776358</td>\n",
       "      <td>2.213486</td>\n",
       "      <td>0.093761</td>\n",
       "      <td>0.400607</td>\n",
       "      <td>0.518409</td>\n",
       "      <td>1.296081</td>\n",
       "    </tr>\n",
       "    <tr>\n",
       "      <th>grow | ps=10 | elitism=False</th>\n",
       "      <td>1.882130</td>\n",
       "      <td>4.773576</td>\n",
       "      <td>2187.522705</td>\n",
       "      <td>108.171616</td>\n",
       "      <td>32.438011</td>\n",
       "      <td>3.553449</td>\n",
       "      <td>4.332781</td>\n",
       "      <td>2.924150</td>\n",
       "      <td>5.549167</td>\n",
       "      <td>3.377031</td>\n",
       "    </tr>\n",
       "    <tr>\n",
       "      <th>grow | ps=100 | elitism=True</th>\n",
       "      <td>0.173018</td>\n",
       "      <td>0.085425</td>\n",
       "      <td>0.094237</td>\n",
       "      <td>0.107977</td>\n",
       "      <td>0.083224</td>\n",
       "      <td>0.066708</td>\n",
       "      <td>0.194579</td>\n",
       "      <td>0.078618</td>\n",
       "      <td>0.143191</td>\n",
       "      <td>0.091151</td>\n",
       "    </tr>\n",
       "    <tr>\n",
       "      <th>grow | ps=100 | elitism=False</th>\n",
       "      <td>0.172972</td>\n",
       "      <td>0.085425</td>\n",
       "      <td>0.097077</td>\n",
       "      <td>0.110798</td>\n",
       "      <td>0.085550</td>\n",
       "      <td>0.066708</td>\n",
       "      <td>0.194579</td>\n",
       "      <td>0.071642</td>\n",
       "      <td>0.143191</td>\n",
       "      <td>0.061637</td>\n",
       "    </tr>\n",
       "    <tr>\n",
       "      <th>full | ps=10 | elitism=True</th>\n",
       "      <td>0.984487</td>\n",
       "      <td>4.345548</td>\n",
       "      <td>1.212196</td>\n",
       "      <td>3.109017</td>\n",
       "      <td>1.201787</td>\n",
       "      <td>1.872469</td>\n",
       "      <td>1.148479</td>\n",
       "      <td>3.889320</td>\n",
       "      <td>0.416443</td>\n",
       "      <td>0.995227</td>\n",
       "    </tr>\n",
       "    <tr>\n",
       "      <th>full | ps=10 | elitism=False</th>\n",
       "      <td>0.451887</td>\n",
       "      <td>29277.699219</td>\n",
       "      <td>38.021851</td>\n",
       "      <td>471647.343750</td>\n",
       "      <td>2.963537</td>\n",
       "      <td>14.001503</td>\n",
       "      <td>1.148479</td>\n",
       "      <td>9.127652</td>\n",
       "      <td>2372.386475</td>\n",
       "      <td>19.719604</td>\n",
       "    </tr>\n",
       "    <tr>\n",
       "      <th>full | ps=100 | elitism=True</th>\n",
       "      <td>0.108773</td>\n",
       "      <td>0.271582</td>\n",
       "      <td>0.084250</td>\n",
       "      <td>0.084115</td>\n",
       "      <td>0.260017</td>\n",
       "      <td>0.285943</td>\n",
       "      <td>0.215212</td>\n",
       "      <td>0.148788</td>\n",
       "      <td>0.064043</td>\n",
       "      <td>0.330779</td>\n",
       "    </tr>\n",
       "    <tr>\n",
       "      <th>full | ps=100 | elitism=False</th>\n",
       "      <td>0.130662</td>\n",
       "      <td>0.271582</td>\n",
       "      <td>0.110433</td>\n",
       "      <td>0.093030</td>\n",
       "      <td>0.260017</td>\n",
       "      <td>0.285943</td>\n",
       "      <td>0.215212</td>\n",
       "      <td>0.148788</td>\n",
       "      <td>0.064043</td>\n",
       "      <td>0.062050</td>\n",
       "    </tr>\n",
       "  </tbody>\n",
       "</table>\n",
       "</div>"
      ],
      "text/plain": [
       "                                      0             1            2  \\\n",
       "grow | ps=10 | elitism=True    0.717242      0.972592     1.078354   \n",
       "grow | ps=10 | elitism=False   1.882130      4.773576  2187.522705   \n",
       "grow | ps=100 | elitism=True   0.173018      0.085425     0.094237   \n",
       "grow | ps=100 | elitism=False  0.172972      0.085425     0.097077   \n",
       "full | ps=10 | elitism=True    0.984487      4.345548     1.212196   \n",
       "full | ps=10 | elitism=False   0.451887  29277.699219    38.021851   \n",
       "full | ps=100 | elitism=True   0.108773      0.271582     0.084250   \n",
       "full | ps=100 | elitism=False  0.130662      0.271582     0.110433   \n",
       "\n",
       "                                           3          4          5         6  \\\n",
       "grow | ps=10 | elitism=True         4.874651   1.776358   2.213486  0.093761   \n",
       "grow | ps=10 | elitism=False      108.171616  32.438011   3.553449  4.332781   \n",
       "grow | ps=100 | elitism=True        0.107977   0.083224   0.066708  0.194579   \n",
       "grow | ps=100 | elitism=False       0.110798   0.085550   0.066708  0.194579   \n",
       "full | ps=10 | elitism=True         3.109017   1.201787   1.872469  1.148479   \n",
       "full | ps=10 | elitism=False   471647.343750   2.963537  14.001503  1.148479   \n",
       "full | ps=100 | elitism=True        0.084115   0.260017   0.285943  0.215212   \n",
       "full | ps=100 | elitism=False       0.093030   0.260017   0.285943  0.215212   \n",
       "\n",
       "                                      7            8          9  \n",
       "grow | ps=10 | elitism=True    0.400607     0.518409   1.296081  \n",
       "grow | ps=10 | elitism=False   2.924150     5.549167   3.377031  \n",
       "grow | ps=100 | elitism=True   0.078618     0.143191   0.091151  \n",
       "grow | ps=100 | elitism=False  0.071642     0.143191   0.061637  \n",
       "full | ps=10 | elitism=True    3.889320     0.416443   0.995227  \n",
       "full | ps=10 | elitism=False   9.127652  2372.386475  19.719604  \n",
       "full | ps=100 | elitism=True   0.148788     0.064043   0.330779  \n",
       "full | ps=100 | elitism=False  0.148788     0.064043   0.062050  "
      ]
     },
     "execution_count": 29,
     "metadata": {},
     "output_type": "execute_result"
    }
   ],
   "source": [
    "# manually insterting RMSE of each run and each combination\n",
    "combinations = {\n",
    "    'grow | ps=10 | elitism=True': [0.7172418236732483,  0.9725918769836426, 1.0783541202545166, 4.8746514320373535, 1.7763582468032837, \n",
    "                                    2.2134861946105957, 0.09376145154237747, 0.4006068706512451, 0.5184093117713928, 1.2960807085037231],\n",
    "    'grow | ps=10 | elitism=False': [1.8821302652359009, 4.773576259613037, 2187.522705078125, 108.17161560058594, 32.438011169433594,\n",
    "                                     3.5534491539001465, 4.3327813148498535, 2.924149990081787, 5.549167156219482, 3.377030611038208],\n",
    "\n",
    "    'grow | ps=100 | elitism=True': [0.17301790416240692, 0.08542505651712418, 0.0942370668053627, 0.10797682404518127, 0.08322376757860184, \n",
    "                                     0.06670843064785004, 0.19457924365997314, 0.07861793041229248, 0.14319069683551788, 0.09115146845579147],\n",
    "    'grow | ps=100 | elitism=False': [0.17297174036502838, 0.08542505651712418, 0.09707684814929962, 0.11079820245504379, 0.08555017411708832,\n",
    "                                      0.06670843064785004, 0.19457924365997314, 0.07164227217435837, 0.14319069683551788, 0.06163724139332771],\n",
    "\n",
    "    'full | ps=10 | elitism=True': [0.9844868779182434, 4.345547676086426, 1.2121964693069458, 3.1090166568756104, 1.2017873525619507,\n",
    "                                    1.872469186782837, 1.148478627204895, 3.889319896697998, 0.4164426028728485, 0.9952272772789001],\n",
    "    'full | ps=10 | elitism=False': [0.45188668370246887, 29277.69921875, 38.0218505859375, 471647.34375, 2.9635369777679443,\n",
    "                                     14.001502990722656, 1.148478627204895, 9.127652168273926, 2372.386474609375, 19.7196044921875],\n",
    "    \n",
    "    'full | ps=100 | elitism=True': [0.10877299308776855, 0.27158159017562866, 0.08424984663724899, 0.08411453664302826, 0.26001667976379395,\n",
    "                                     0.2859433889389038, 0.21521228551864624, 0.14878833293914795, 0.0640425980091095, 0.3307787775993347],\n",
    "    'full | ps=100 | elitism=False': [0.1306624561548233, 0.27158159017562866, 0.11043307185173035, 0.0930304229259491, 0.26001667976379395,\n",
    "                                      0.2859433889389038, 0.21521228551864624, 0.14878833293914795, 0.0640425980091095, 0.062049876898527145]}\n",
    "\n",
    "df_combo = pd.DataFrame(combinations).T\n",
    "df_combo"
   ]
  },
  {
   "cell_type": "code",
   "execution_count": 30,
   "metadata": {},
   "outputs": [
    {
     "data": {
      "text/html": [
       "<div>\n",
       "<style scoped>\n",
       "    .dataframe tbody tr th:only-of-type {\n",
       "        vertical-align: middle;\n",
       "    }\n",
       "\n",
       "    .dataframe tbody tr th {\n",
       "        vertical-align: top;\n",
       "    }\n",
       "\n",
       "    .dataframe thead th {\n",
       "        text-align: right;\n",
       "    }\n",
       "</style>\n",
       "<table border=\"1\" class=\"dataframe\">\n",
       "  <thead>\n",
       "    <tr style=\"text-align: right;\">\n",
       "      <th></th>\n",
       "      <th>Run_1</th>\n",
       "      <th>Run_2</th>\n",
       "      <th>Run_3</th>\n",
       "      <th>Run_4</th>\n",
       "      <th>Run_5</th>\n",
       "      <th>Run_6</th>\n",
       "      <th>Run_7</th>\n",
       "      <th>Run_8</th>\n",
       "      <th>Run_9</th>\n",
       "      <th>Run_10</th>\n",
       "    </tr>\n",
       "  </thead>\n",
       "  <tbody>\n",
       "    <tr>\n",
       "      <th>grow | ps=10 | elitism=True</th>\n",
       "      <td>0.717</td>\n",
       "      <td>0.973</td>\n",
       "      <td>1.078</td>\n",
       "      <td>4.875</td>\n",
       "      <td>1.776</td>\n",
       "      <td>2.213</td>\n",
       "      <td>0.094</td>\n",
       "      <td>0.401</td>\n",
       "      <td>0.518</td>\n",
       "      <td>1.296</td>\n",
       "    </tr>\n",
       "    <tr>\n",
       "      <th>grow | ps=10 | elitism=False</th>\n",
       "      <td>1.882</td>\n",
       "      <td>4.774</td>\n",
       "      <td>2187.523</td>\n",
       "      <td>108.172</td>\n",
       "      <td>32.438</td>\n",
       "      <td>3.553</td>\n",
       "      <td>4.333</td>\n",
       "      <td>2.924</td>\n",
       "      <td>5.549</td>\n",
       "      <td>3.377</td>\n",
       "    </tr>\n",
       "    <tr>\n",
       "      <th>grow | ps=100 | elitism=True</th>\n",
       "      <td>0.173</td>\n",
       "      <td>0.085</td>\n",
       "      <td>0.094</td>\n",
       "      <td>0.108</td>\n",
       "      <td>0.083</td>\n",
       "      <td>0.067</td>\n",
       "      <td>0.195</td>\n",
       "      <td>0.079</td>\n",
       "      <td>0.143</td>\n",
       "      <td>0.091</td>\n",
       "    </tr>\n",
       "    <tr>\n",
       "      <th>grow | ps=100 | elitism=False</th>\n",
       "      <td>0.173</td>\n",
       "      <td>0.085</td>\n",
       "      <td>0.097</td>\n",
       "      <td>0.111</td>\n",
       "      <td>0.086</td>\n",
       "      <td>0.067</td>\n",
       "      <td>0.195</td>\n",
       "      <td>0.072</td>\n",
       "      <td>0.143</td>\n",
       "      <td>0.062</td>\n",
       "    </tr>\n",
       "    <tr>\n",
       "      <th>full | ps=10 | elitism=True</th>\n",
       "      <td>0.984</td>\n",
       "      <td>4.346</td>\n",
       "      <td>1.212</td>\n",
       "      <td>3.109</td>\n",
       "      <td>1.202</td>\n",
       "      <td>1.872</td>\n",
       "      <td>1.148</td>\n",
       "      <td>3.889</td>\n",
       "      <td>0.416</td>\n",
       "      <td>0.995</td>\n",
       "    </tr>\n",
       "    <tr>\n",
       "      <th>full | ps=10 | elitism=False</th>\n",
       "      <td>0.452</td>\n",
       "      <td>29277.699</td>\n",
       "      <td>38.022</td>\n",
       "      <td>471647.344</td>\n",
       "      <td>2.964</td>\n",
       "      <td>14.002</td>\n",
       "      <td>1.148</td>\n",
       "      <td>9.128</td>\n",
       "      <td>2372.386</td>\n",
       "      <td>19.720</td>\n",
       "    </tr>\n",
       "    <tr>\n",
       "      <th>full | ps=100 | elitism=True</th>\n",
       "      <td>0.109</td>\n",
       "      <td>0.272</td>\n",
       "      <td>0.084</td>\n",
       "      <td>0.084</td>\n",
       "      <td>0.260</td>\n",
       "      <td>0.286</td>\n",
       "      <td>0.215</td>\n",
       "      <td>0.149</td>\n",
       "      <td>0.064</td>\n",
       "      <td>0.331</td>\n",
       "    </tr>\n",
       "    <tr>\n",
       "      <th>full | ps=100 | elitism=False</th>\n",
       "      <td>0.131</td>\n",
       "      <td>0.272</td>\n",
       "      <td>0.110</td>\n",
       "      <td>0.093</td>\n",
       "      <td>0.260</td>\n",
       "      <td>0.286</td>\n",
       "      <td>0.215</td>\n",
       "      <td>0.149</td>\n",
       "      <td>0.064</td>\n",
       "      <td>0.062</td>\n",
       "    </tr>\n",
       "  </tbody>\n",
       "</table>\n",
       "</div>"
      ],
      "text/plain": [
       "                               Run_1      Run_2     Run_3       Run_4   Run_5  \\\n",
       "grow | ps=10 | elitism=True    0.717      0.973     1.078       4.875   1.776   \n",
       "grow | ps=10 | elitism=False   1.882      4.774  2187.523     108.172  32.438   \n",
       "grow | ps=100 | elitism=True   0.173      0.085     0.094       0.108   0.083   \n",
       "grow | ps=100 | elitism=False  0.173      0.085     0.097       0.111   0.086   \n",
       "full | ps=10 | elitism=True    0.984      4.346     1.212       3.109   1.202   \n",
       "full | ps=10 | elitism=False   0.452  29277.699    38.022  471647.344   2.964   \n",
       "full | ps=100 | elitism=True   0.109      0.272     0.084       0.084   0.260   \n",
       "full | ps=100 | elitism=False  0.131      0.272     0.110       0.093   0.260   \n",
       "\n",
       "                                Run_6  Run_7  Run_8     Run_9  Run_10  \n",
       "grow | ps=10 | elitism=True     2.213  0.094  0.401     0.518   1.296  \n",
       "grow | ps=10 | elitism=False    3.553  4.333  2.924     5.549   3.377  \n",
       "grow | ps=100 | elitism=True    0.067  0.195  0.079     0.143   0.091  \n",
       "grow | ps=100 | elitism=False   0.067  0.195  0.072     0.143   0.062  \n",
       "full | ps=10 | elitism=True     1.872  1.148  3.889     0.416   0.995  \n",
       "full | ps=10 | elitism=False   14.002  1.148  9.128  2372.386  19.720  \n",
       "full | ps=100 | elitism=True    0.286  0.215  0.149     0.064   0.331  \n",
       "full | ps=100 | elitism=False   0.286  0.215  0.149     0.064   0.062  "
      ]
     },
     "execution_count": 30,
     "metadata": {},
     "output_type": "execute_result"
    }
   ],
   "source": [
    "# ATTENTION - If we repeat the same run it will create new columns here.\n",
    "# add the 'Runs' as columns\n",
    "df_combo.columns = [f'Run_{i+1}' for i in range(len(df_combo.columns))]\n",
    "df_combo.rename(columns={'index': 'Runs'}, inplace=True)\n",
    "\n",
    "# display the updated df\n",
    "df_combo.round(3)"
   ]
  },
  {
   "cell_type": "markdown",
   "metadata": {},
   "source": [
    "##### **Median and Average RMSE per combination.**"
   ]
  },
  {
   "cell_type": "code",
   "execution_count": 31,
   "metadata": {},
   "outputs": [
    {
     "data": {
      "text/html": [
       "<div>\n",
       "<style scoped>\n",
       "    .dataframe tbody tr th:only-of-type {\n",
       "        vertical-align: middle;\n",
       "    }\n",
       "\n",
       "    .dataframe tbody tr th {\n",
       "        vertical-align: top;\n",
       "    }\n",
       "\n",
       "    .dataframe thead th {\n",
       "        text-align: right;\n",
       "    }\n",
       "</style>\n",
       "<table border=\"1\" class=\"dataframe\">\n",
       "  <thead>\n",
       "    <tr style=\"text-align: right;\">\n",
       "      <th></th>\n",
       "      <th>Run_1</th>\n",
       "      <th>Run_2</th>\n",
       "      <th>Run_3</th>\n",
       "      <th>Run_4</th>\n",
       "      <th>Run_5</th>\n",
       "      <th>Run_6</th>\n",
       "      <th>Run_7</th>\n",
       "      <th>Run_8</th>\n",
       "      <th>Run_9</th>\n",
       "      <th>Run_10</th>\n",
       "      <th>Median RMSE</th>\n",
       "      <th>Avg RMSE</th>\n",
       "    </tr>\n",
       "  </thead>\n",
       "  <tbody>\n",
       "    <tr>\n",
       "      <th>grow | ps=10 | elitism=True</th>\n",
       "      <td>0.717242</td>\n",
       "      <td>0.972592</td>\n",
       "      <td>1.078354</td>\n",
       "      <td>4.874651</td>\n",
       "      <td>1.776358</td>\n",
       "      <td>2.213486</td>\n",
       "      <td>0.093761</td>\n",
       "      <td>0.400607</td>\n",
       "      <td>0.518409</td>\n",
       "      <td>1.296081</td>\n",
       "      <td>1.078354</td>\n",
       "      <td>1.469367</td>\n",
       "    </tr>\n",
       "    <tr>\n",
       "      <th>grow | ps=10 | elitism=False</th>\n",
       "      <td>1.882130</td>\n",
       "      <td>4.773576</td>\n",
       "      <td>2187.522705</td>\n",
       "      <td>108.171616</td>\n",
       "      <td>32.438011</td>\n",
       "      <td>3.553449</td>\n",
       "      <td>4.332781</td>\n",
       "      <td>2.924150</td>\n",
       "      <td>5.549167</td>\n",
       "      <td>3.377031</td>\n",
       "      <td>4.773576</td>\n",
       "      <td>261.404721</td>\n",
       "    </tr>\n",
       "    <tr>\n",
       "      <th>grow | ps=100 | elitism=True</th>\n",
       "      <td>0.173018</td>\n",
       "      <td>0.085425</td>\n",
       "      <td>0.094237</td>\n",
       "      <td>0.107977</td>\n",
       "      <td>0.083224</td>\n",
       "      <td>0.066708</td>\n",
       "      <td>0.194579</td>\n",
       "      <td>0.078618</td>\n",
       "      <td>0.143191</td>\n",
       "      <td>0.091151</td>\n",
       "      <td>0.091151</td>\n",
       "      <td>0.105012</td>\n",
       "    </tr>\n",
       "    <tr>\n",
       "      <th>grow | ps=100 | elitism=False</th>\n",
       "      <td>0.172972</td>\n",
       "      <td>0.085425</td>\n",
       "      <td>0.097077</td>\n",
       "      <td>0.110798</td>\n",
       "      <td>0.085550</td>\n",
       "      <td>0.066708</td>\n",
       "      <td>0.194579</td>\n",
       "      <td>0.071642</td>\n",
       "      <td>0.143191</td>\n",
       "      <td>0.061637</td>\n",
       "      <td>0.085550</td>\n",
       "      <td>0.101845</td>\n",
       "    </tr>\n",
       "    <tr>\n",
       "      <th>full | ps=10 | elitism=True</th>\n",
       "      <td>0.984487</td>\n",
       "      <td>4.345548</td>\n",
       "      <td>1.212196</td>\n",
       "      <td>3.109017</td>\n",
       "      <td>1.201787</td>\n",
       "      <td>1.872469</td>\n",
       "      <td>1.148479</td>\n",
       "      <td>3.889320</td>\n",
       "      <td>0.416443</td>\n",
       "      <td>0.995227</td>\n",
       "      <td>1.212196</td>\n",
       "      <td>2.021165</td>\n",
       "    </tr>\n",
       "    <tr>\n",
       "      <th>full | ps=10 | elitism=False</th>\n",
       "      <td>0.451887</td>\n",
       "      <td>29277.699219</td>\n",
       "      <td>38.021851</td>\n",
       "      <td>471647.343750</td>\n",
       "      <td>2.963537</td>\n",
       "      <td>14.001503</td>\n",
       "      <td>1.148479</td>\n",
       "      <td>9.127652</td>\n",
       "      <td>2372.386475</td>\n",
       "      <td>19.719604</td>\n",
       "      <td>19.719604</td>\n",
       "      <td>55931.379119</td>\n",
       "    </tr>\n",
       "    <tr>\n",
       "      <th>full | ps=100 | elitism=True</th>\n",
       "      <td>0.108773</td>\n",
       "      <td>0.271582</td>\n",
       "      <td>0.084250</td>\n",
       "      <td>0.084115</td>\n",
       "      <td>0.260017</td>\n",
       "      <td>0.285943</td>\n",
       "      <td>0.215212</td>\n",
       "      <td>0.148788</td>\n",
       "      <td>0.064043</td>\n",
       "      <td>0.330779</td>\n",
       "      <td>0.215212</td>\n",
       "      <td>0.193859</td>\n",
       "    </tr>\n",
       "    <tr>\n",
       "      <th>full | ps=100 | elitism=False</th>\n",
       "      <td>0.130662</td>\n",
       "      <td>0.271582</td>\n",
       "      <td>0.110433</td>\n",
       "      <td>0.093030</td>\n",
       "      <td>0.260017</td>\n",
       "      <td>0.285943</td>\n",
       "      <td>0.215212</td>\n",
       "      <td>0.148788</td>\n",
       "      <td>0.064043</td>\n",
       "      <td>0.062050</td>\n",
       "      <td>0.148788</td>\n",
       "      <td>0.167900</td>\n",
       "    </tr>\n",
       "  </tbody>\n",
       "</table>\n",
       "</div>"
      ],
      "text/plain": [
       "                                  Run_1         Run_2        Run_3  \\\n",
       "grow | ps=10 | elitism=True    0.717242      0.972592     1.078354   \n",
       "grow | ps=10 | elitism=False   1.882130      4.773576  2187.522705   \n",
       "grow | ps=100 | elitism=True   0.173018      0.085425     0.094237   \n",
       "grow | ps=100 | elitism=False  0.172972      0.085425     0.097077   \n",
       "full | ps=10 | elitism=True    0.984487      4.345548     1.212196   \n",
       "full | ps=10 | elitism=False   0.451887  29277.699219    38.021851   \n",
       "full | ps=100 | elitism=True   0.108773      0.271582     0.084250   \n",
       "full | ps=100 | elitism=False  0.130662      0.271582     0.110433   \n",
       "\n",
       "                                       Run_4      Run_5      Run_6     Run_7  \\\n",
       "grow | ps=10 | elitism=True         4.874651   1.776358   2.213486  0.093761   \n",
       "grow | ps=10 | elitism=False      108.171616  32.438011   3.553449  4.332781   \n",
       "grow | ps=100 | elitism=True        0.107977   0.083224   0.066708  0.194579   \n",
       "grow | ps=100 | elitism=False       0.110798   0.085550   0.066708  0.194579   \n",
       "full | ps=10 | elitism=True         3.109017   1.201787   1.872469  1.148479   \n",
       "full | ps=10 | elitism=False   471647.343750   2.963537  14.001503  1.148479   \n",
       "full | ps=100 | elitism=True        0.084115   0.260017   0.285943  0.215212   \n",
       "full | ps=100 | elitism=False       0.093030   0.260017   0.285943  0.215212   \n",
       "\n",
       "                                  Run_8        Run_9     Run_10  Median RMSE  \\\n",
       "grow | ps=10 | elitism=True    0.400607     0.518409   1.296081     1.078354   \n",
       "grow | ps=10 | elitism=False   2.924150     5.549167   3.377031     4.773576   \n",
       "grow | ps=100 | elitism=True   0.078618     0.143191   0.091151     0.091151   \n",
       "grow | ps=100 | elitism=False  0.071642     0.143191   0.061637     0.085550   \n",
       "full | ps=10 | elitism=True    3.889320     0.416443   0.995227     1.212196   \n",
       "full | ps=10 | elitism=False   9.127652  2372.386475  19.719604    19.719604   \n",
       "full | ps=100 | elitism=True   0.148788     0.064043   0.330779     0.215212   \n",
       "full | ps=100 | elitism=False  0.148788     0.064043   0.062050     0.148788   \n",
       "\n",
       "                                   Avg RMSE  \n",
       "grow | ps=10 | elitism=True        1.469367  \n",
       "grow | ps=10 | elitism=False     261.404721  \n",
       "grow | ps=100 | elitism=True       0.105012  \n",
       "grow | ps=100 | elitism=False      0.101845  \n",
       "full | ps=10 | elitism=True        2.021165  \n",
       "full | ps=10 | elitism=False   55931.379119  \n",
       "full | ps=100 | elitism=True       0.193859  \n",
       "full | ps=100 | elitism=False      0.167900  "
      ]
     },
     "execution_count": 31,
     "metadata": {},
     "output_type": "execute_result"
    }
   ],
   "source": [
    "# calculate the median and mean for each row (excluding the first column)\n",
    "medians = df_combo.iloc[:, 1:].median(axis=1)\n",
    "avg = df_combo.iloc[:, 1:].mean(axis=1)\n",
    "\n",
    "# Add the median values as a new column named 'Median RMSE'\n",
    "df_combo['Median RMSE'] = medians\n",
    "df_combo['Avg RMSE'] = avg\n",
    "\n",
    "# Display the updated DataFrame\n",
    "df_combo"
   ]
  },
  {
   "cell_type": "markdown",
   "metadata": {},
   "source": [
    "> **Best median RMSE on test set: 0.085550** <br>\n",
    ">\n",
    "> Achieved with the combination of *initializer=grow*, *ps=100*, *elitism=False*"
   ]
  }
 ],
 "metadata": {
  "kernelspec": {
   "display_name": "DeepLearning_Py3-10-14_TF",
   "language": "python",
   "name": "python3"
  },
  "language_info": {
   "codemirror_mode": {
    "name": "ipython",
    "version": 3
   },
   "file_extension": ".py",
   "mimetype": "text/x-python",
   "name": "python",
   "nbconvert_exporter": "python",
   "pygments_lexer": "ipython3",
   "version": "3.10.13"
  }
 },
 "nbformat": 4,
 "nbformat_minor": 2
}
