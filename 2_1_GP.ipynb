{
 "cells": [
  {
   "cell_type": "markdown",
   "metadata": {},
   "source": [
    "# Neural and Evolutionary Learning - Final Project"
   ]
  },
  {
   "cell_type": "markdown",
   "metadata": {},
   "source": [
    "## Notebook 2 - Problem Applications\n",
    "\n",
    "## **2.1.** *Genetic Programming* - `GP`"
   ]
  },
  {
   "cell_type": "markdown",
   "metadata": {},
   "source": [
    "|       Student Name      |    Student ID   |\n",
    "|           ---           |       ---       |\n",
    "|     Andriani Kakoulli   |     20230484    |\n",
    "|       Susana Pires      |     20230540    |"
   ]
  },
  {
   "cell_type": "markdown",
   "metadata": {},
   "source": [
    "### **1. Introduction**"
   ]
  },
  {
   "cell_type": "markdown",
   "metadata": {},
   "source": [
    "> **CONTEXT** <br>\n",
    "\n",
    "Data from Automatic Milking Systems (AMSs). <br>\n",
    "\n",
    "Milk contents (fat, protein, lactose) are emasured at each milking event, to evaluate milk quality. This measurement is through a colourimetric mehtod that requires calibration every 2 weeks. <br>\n",
    "\n",
    "> **GOAL** <br>\n",
    "\n",
    "To infer the milk components - *Lactose* - from the other sensor data from the milking robots. <br>\n",
    "Develop model to **predict** Lactose content."
   ]
  },
  {
   "cell_type": "markdown",
   "metadata": {},
   "source": [
    "> **GPOL**-based implementations\n",
    "\n",
    "> **1.** **Search Space** definition <br>\n",
    "> Python dictionary with following elements: <br>\n",
    "> - *n_dims*  <br>\n",
    "> - *function_set*  <br>\n",
    "> - *constant_set*  <br>\n",
    "> - *p_constants*  <br>\n",
    "> - *max_init_depth*  <br>\n",
    "> - *max_depth*  <br>\n",
    "> - *n_batches*  <br>\n",
    "> - *device*  <br>\n",
    "> <br>\n",
    "> \n",
    "> **2.** **Problem Instance** definition  <br>\n",
    "> Instantiantion of a SML (supervised-ML) object, it requires:  <br>\n",
    "> - *fitness function*  <br>\n",
    "> - *train data loader*  <br>\n",
    "> - *number of jobs for parallel processing* <br>\n",
    "> Optional: can take test data loader object.  <br>\n",
    "> <br>\n",
    ">\n",
    "> **3.** **Algorithm** definition  <br>\n",
    "> Instantiation of a Genetic Algorithm object, requires definitions of:  <br>\n",
    "> - *problem instance*  <br>\n",
    "> - *initialization methods*  <br>\n",
    "> - *crossover operators*  <br>\n",
    "> - *mutation operators*  <br>\n",
    "> - *crossover probabilities*  <br>\n",
    "> - *mutation probabilities*  <br>\n",
    "> - *elitism*  <br>\n",
    "> - *reproduction*  <br>\n",
    "> - *device on evaluations will be processed*  <br>\n",
    "> - *random seed*  <br>"
   ]
  },
  {
   "cell_type": "markdown",
   "metadata": {},
   "source": [
    "### **2. Environment preparation**"
   ]
  },
  {
   "cell_type": "markdown",
   "metadata": {},
   "source": [
    "#### **2.1. Imports**"
   ]
  },
  {
   "cell_type": "code",
   "execution_count": 9,
   "metadata": {},
   "outputs": [],
   "source": [
    "import os\n",
    "import csv\n",
    "import torch\n",
    "import pandas as pd\n",
    "import matplotlib.pyplot as plt\n",
    "\n",
    "from torch.utils.data import TensorDataset, DataLoader\n",
    "\n",
    "# import from other files on folders\n",
    "# algorithms, operators, problems, utils\n",
    "\n",
    "from gpolnel.utils.utils import train_test_split\n",
    "from gpolnel.utils.utils import load_cleaned_data, load_cleaned_transformed_data\n",
    "\n",
    "# For 2.5.1 Search space definition\n",
    "from gpolnel.utils.inductive_programming import function_map\n",
    "from gpolnel.operators.initializers import ERC\n",
    "# For 2.5.2 Problem definition\n",
    "from gpolnel.problems.inductive_programming import SML\n",
    "from gpolnel.utils.ffunctions import Ffunctions\n",
    "from gpolnel.utils.inductive_programming import _execute_tree\n",
    "##############################\n",
    "# For 2.5.3 GP instalation\n",
    "from gpolnel.algorithms.genetic_algorithm import GeneticAlgorithm\n",
    "from gpolnel.operators.initializers_for_GP import grow, prm_grow, full, prm_full, rhh\n",
    "from gpolnel.operators.variators import swap_xo, prm_subtree_mtn, hoist_mtn\n",
    "from gpolnel.operators.selectors import prm_tournament, rank_selection, roulette_wheel"
   ]
  },
  {
   "cell_type": "markdown",
   "metadata": {},
   "source": [
    "#### **2.2. Global settings**"
   ]
  },
  {
   "cell_type": "code",
   "execution_count": 10,
   "metadata": {},
   "outputs": [],
   "source": [
    "seed = 27\n",
    "\n",
    "# Susana - my device will always be cpu because my pc doesn't have a NVIDIA (nor a recent AMD) GPU.\n",
    "device = 'cuda' if torch.cuda.is_available() else 'cpu'\n",
    "\n",
    "# if Mac\n",
    "# device = 'mps' if torch.backends.mps.is_available() else 'cpu'\n",
    "# if Windows\n",
    "# device = 'cuda' if torch.cuda.is_available() else 'cpu'"
   ]
  },
  {
   "cell_type": "markdown",
   "metadata": {},
   "source": [
    "#### **2.3. Data load**"
   ]
  },
  {
   "cell_type": "markdown",
   "metadata": {},
   "source": [
    "To use the data loader<br>\n",
    "- folder *problems* - file *problem* <br>\n",
    "- folder *utils* - file *solution* <br>\n",
    "- the data loader is instantiated inside SML (folder *problems* in file *inductive_programming*) <br>"
   ]
  },
  {
   "cell_type": "code",
   "execution_count": 11,
   "metadata": {},
   "outputs": [],
   "source": [
    "X, y = load_cleaned_data(X_y=True)"
   ]
  },
  {
   "cell_type": "code",
   "execution_count": 12,
   "metadata": {},
   "outputs": [
    {
     "name": "stdout",
     "output_type": "stream",
     "text": [
      "torch.Size([177, 14]) torch.Size([177])\n"
     ]
    }
   ],
   "source": [
    "print(X.shape, y.shape)"
   ]
  },
  {
   "cell_type": "markdown",
   "metadata": {},
   "source": [
    "#### **2.4. Data split**"
   ]
  },
  {
   "cell_type": "code",
   "execution_count": 13,
   "metadata": {},
   "outputs": [
    {
     "name": "stdout",
     "output_type": "stream",
     "text": [
      "Batch size: 87\n",
      "Total batches: 1\n",
      "\n",
      "Train:\t87\n",
      "Val:\t37\n",
      "Test:\t53\n",
      "Total:\t177\n"
     ]
    }
   ],
   "source": [
    "# Train and test sets\n",
    "X_train, X_test, y_train, y_test = train_test_split(X, y, p_test=0.3, seed=seed)\n",
    "\n",
    "# Train and validation sets, load from X_train and y_train\n",
    "X_train, X_val, y_train, y_val = train_test_split(X_train, y_train, p_test=0.3, seed=seed)\n",
    "total_batches = 1 \n",
    "batch_size = X_train.shape[0]\n",
    "print(f'Batch size: {batch_size}\\nTotal batches: {total_batches}\\n')\n",
    "\n",
    "print(f'Train:\\t{X_train.shape[0]}\\nVal:\\t{X_val.shape[0]}\\nTest:\\t{X_test.shape[0]}')\n",
    "print('Total:\\t{}'.format(X_train.shape[0] + X_val.shape[0] + X_test.shape[0]))"
   ]
  },
  {
   "cell_type": "code",
   "execution_count": 14,
   "metadata": {},
   "outputs": [],
   "source": [
    "# Creates training and validatation data sets\n",
    "ds_train = TensorDataset(X_train, y_train)\n",
    "ds_val = TensorDataset(X_val, y_val)\n",
    "\n",
    "# Creates training and test data loaders\n",
    "dl_train = DataLoader(ds_train, batch_size, shuffle=True)\n",
    "dl_val = DataLoader(ds_val, batch_size, shuffle=True)"
   ]
  },
  {
   "cell_type": "markdown",
   "metadata": {},
   "source": [
    "#### **2.5. GPOL Based Implementation**"
   ]
  },
  {
   "cell_type": "markdown",
   "metadata": {},
   "source": [
    "##### 2.5.1 Search Space Definition (Step 1)"
   ]
  },
  {
   "cell_type": "code",
   "execution_count": 15,
   "metadata": {},
   "outputs": [],
   "source": [
    "fset = [function_map['add'], function_map['sub'], function_map['mul'], function_map['div']]\n",
    "\n",
    "sspace_sml = {  # search space definition\n",
    "    'n_dims': X.shape[1],\n",
    "    'function_set': fset, \n",
    "    'constant_set': ERC(-1., 1.), # ERC generates random constants\n",
    "    'p_constants': 0.1, # probability of using a constant = 10% , bcs the features will be more informative\n",
    "    'max_init_depth': 3,\n",
    "    'max_depth': 10, \n",
    "    'n_batches': total_batches,\n",
    "    'device': device\n",
    "}"
   ]
  },
  {
   "cell_type": "markdown",
   "metadata": {},
   "source": [
    "##### 2.5.2 Problem Definition (Step 2)"
   ]
  },
  {
   "cell_type": "code",
   "execution_count": 16,
   "metadata": {},
   "outputs": [],
   "source": [
    "pi_sml = SML(\n",
    "    sspace=sspace_sml,\n",
    "    ffunction=Ffunctions('rmse'), # def of fitness function (rmse: decrese the error as it's a prediction problem) |we can use another fitness function - decision is problem dependent\n",
    "    dl_train=dl_train, dl_test=dl_val,  # For the algorithm, the unseen is our validation!!\n",
    "    n_jobs=8  # defines the num of paralellized operations (eg fitness). it is a dataloader form torch  \n",
    ")"
   ]
  },
  {
   "cell_type": "markdown",
   "metadata": {},
   "source": [
    "##### 2.5.3 Genetic Algorithm Definition (Step 3)"
   ]
  },
  {
   "cell_type": "code",
   "execution_count": 17,
   "metadata": {},
   "outputs": [],
   "source": [
    "ps = 100  # Modify this number 10 or 100\n",
    "selection_pressure = .07\n",
    "mutation_prob = .1     #}   # pc + pm =1\n",
    "xo_prob = .9           #}\n",
    "has_elitism = True\n",
    "allow_reproduction = False\n",
    "\n",
    "mheuristic = GeneticAlgorithm(\n",
    "    pi=pi_sml,\n",
    "    initializer=full,  # We can choose among grow, full, ramped half&half(givesNone)\n",
    "    selector=prm_tournament(pressure=selection_pressure),  # We can choose another selection: try double tourn to avoid the tree growing too much\n",
    "    crossover=swap_xo,\n",
    "    mutator=prm_subtree_mtn(initializer=prm_full(sspace_sml)),  # prm methods of initializers - to avoid using if statements\n",
    "    pop_size=ps,\n",
    "    p_m=mutation_prob,\n",
    "    p_c=xo_prob,\n",
    "    elitism=has_elitism,\n",
    "    reproduction=allow_reproduction,  # False = or xo or mutation\n",
    "    device=device,\n",
    "    seed=seed\n",
    ")"
   ]
  },
  {
   "cell_type": "markdown",
   "metadata": {},
   "source": [
    "#### **2.6. Genetic Programming Initialization**"
   ]
  },
  {
   "cell_type": "code",
   "execution_count": 18,
   "metadata": {},
   "outputs": [],
   "source": [
    "mheuristic._initialize(tree=True)"
   ]
  },
  {
   "cell_type": "code",
   "execution_count": 19,
   "metadata": {},
   "outputs": [
    {
     "name": "stdout",
     "output_type": "stream",
     "text": [
      "0)\t[div, mul, mul, 1, 8, mul, 13, 2, sub, sub, 1, 10, add, 6, 11] (fit: tensor(2510.5195))\n",
      "1)\t[add, div, mul, tensor(0.9489), 4, sub, 5, 3, sub, add, 12, 11, add, 8, tensor(-0.0809)] (fit: tensor(7.4066))\n",
      "2)\t[sub, mul, add, 10, tensor(0.5594), mul, 9, 4, div, div, 5, 4, sub, 8, tensor(-0.5015)] (fit: tensor(40.1837))\n",
      "3)\t[sub, div, add, 12, tensor(-0.3125), add, 12, 11, add, mul, 4, 9, add, 3, 7] (fit: tensor(82.8451))\n",
      "4)\t[add, add, add, 3, 9, add, tensor(-0.1542), 11, add, sub, 13, 0, sub, 3, 11] (fit: tensor(143.6586))\n",
      "5)\t[mul, div, add, 0, 13, add, 2, 9, div, add, 5, 0, div, 8, 13] (fit: tensor(890.7717))\n",
      "6)\t[div, mul, sub, 12, 11, mul, 11, tensor(-0.5464), div, add, 5, 2, add, 1, 3] (fit: tensor(4.8768))\n",
      "7)\t[sub, add, sub, 0, 8, div, 3, 8, sub, add, 8, 7, mul, 8, 11] (fit: tensor(14.9808))\n",
      "8)\t[sub, sub, add, 8, 5, div, 1, 1, add, sub, tensor(0.2096), 1, div, 11, 10] (fit: tensor(538.4623))\n",
      "9)\t[div, mul, div, 9, 1, div, 11, 4, div, sub, 10, 8, sub, 5, 11] (fit: tensor(68.1132))\n",
      "10)\t[mul, sub, div, 6, 13, sub, 7, 12, add, div, 12, 1, add, 3, 12] (fit: tensor(145.5566))\n",
      "11)\t[div, mul, mul, 13, 0, div, 1, tensor(-0.5113), mul, sub, 12, tensor(-0.5447), mul, 11, tensor(0.2611)] (fit: tensor(15496.6992))\n",
      "12)\t[add, mul, mul, 1, 9, sub, 8, 13, add, mul, 1, 2, mul, 4, 3] (fit: tensor(1667.2041))\n",
      "13)\t[mul, mul, sub, 8, 2, add, 6, 10, div, mul, 13, 1, add, 10, 3] (fit: tensor(24897.5859))\n",
      "14)\t[sub, mul, div, 11, 5, sub, 1, 13, add, div, 0, 8, add, 0, 2] (fit: tensor(339.8730))\n",
      "15)\t[mul, div, add, 12, 7, add, 8, 8, div, div, 5, 0, mul, tensor(0.1940), 7] (fit: tensor(203.1840))\n",
      "16)\t[add, div, sub, 8, 3, div, 0, 4, sub, sub, 11, 3, add, 8, 7] (fit: tensor(190.0715))\n",
      "17)\t[sub, add, div, 11, 13, mul, 4, 9, div, add, 7, 12, sub, tensor(-0.4383), 9] (fit: tensor(9.0040))\n",
      "18)\t[sub, add, add, 5, 8, div, 3, 10, mul, add, 10, 12, div, 11, 0] (fit: tensor(624.4064))\n",
      "19)\t[add, div, add, 12, 2, sub, 11, 8, div, div, 6, 13, add, 3, 0] (fit: tensor(153.2963))\n",
      "20)\t[div, sub, add, 11, 5, add, 4, 10, mul, div, 5, 6, add, 3, 6] (fit: tensor(4.4886))\n",
      "21)\t[sub, add, div, tensor(0.6205), 7, add, tensor(0.8393), 7, div, add, 3, 6, div, 10, 10] (fit: tensor(109.0737))\n",
      "22)\t[add, div, add, 13, 12, div, tensor(-0.4255), 3, sub, mul, 7, 5, add, 7, 12] (fit: tensor(2879.0291))\n",
      "23)\t[sub, sub, add, 12, 11, sub, tensor(0.2000), 13, sub, sub, 1, tensor(-0.7135), add, 10, 8] (fit: tensor(21.6092))\n",
      "24)\t[sub, mul, add, 2, 0, sub, 0, 1, add, mul, 12, 2, div, 6, 6] (fit: tensor(434.3595))\n",
      "25)\t[div, sub, div, 11, 13, add, 3, 13, sub, sub, 7, 10, sub, 1, 12] (fit: tensor(316.1676))\n",
      "26)\t[mul, add, div, 13, tensor(0.9840), div, 8, 10, mul, sub, 3, 9, sub, 8, 11] (fit: tensor(5263.7061))\n",
      "27)\t[sub, div, sub, 9, 6, sub, 2, 13, sub, add, tensor(0.1103), tensor(-0.0268), sub, 8, 12] (fit: tensor(2.4601))\n",
      "28)\t[mul, mul, add, 9, 11, sub, 10, 1, sub, div, 11, 8, add, 12, 12] (fit: tensor(5.0992))\n",
      "29)\t[div, add, add, 9, 6, sub, 3, 3, sub, sub, tensor(0.4122), 12, add, 8, 7] (fit: tensor(12.7996))\n",
      "30)\t[mul, sub, sub, 13, 11, add, 8, 6, div, div, 12, 9, sub, 2, 10] (fit: tensor(4.9224))\n",
      "31)\t[sub, add, mul, 4, 13, add, 7, 13, add, div, 6, 11, div, 9, 12] (fit: tensor(157.4924))\n",
      "32)\t[sub, div, sub, 5, 12, sub, 2, 5, sub, mul, 11, 7, add, 11, 11] (fit: tensor(8.5988))\n",
      "33)\t[div, div, add, tensor(0.0937), 1, sub, tensor(-0.7291), 0, div, div, 0, 6, sub, 8, 9] (fit: tensor(64.5613))\n",
      "34)\t[add, sub, add, 0, 6, sub, 4, tensor(0.5624), add, div, 11, 4, sub, 7, 7] (fit: tensor(37.4784))\n",
      "35)\t[sub, sub, sub, 1, 12, div, 11, 0, mul, add, 6, 5, mul, 0, 13] (fit: tensor(47433.9414))\n",
      "36)\t[mul, sub, sub, 3, 1, add, 3, 5, add, sub, 4, 12, sub, 12, 1] (fit: tensor(1015.7218))\n",
      "37)\t[add, div, mul, 10, 0, sub, 1, 5, sub, sub, tensor(0.6057), 0, div, 13, 10] (fit: tensor(53.5829))\n",
      "38)\t[add, add, add, 8, 1, mul, 6, 10, sub, sub, 13, 2, mul, 9, 7] (fit: tensor(303.7981))\n",
      "39)\t[div, sub, mul, 2, 8, div, 7, 3, div, sub, 9, 5, mul, 6, 11] (fit: tensor(873.5864))\n",
      "40)\t[div, add, div, 1, 10, add, tensor(0.6906), 12, sub, mul, 11, 0, add, 7, tensor(0.5803)] (fit: tensor(10.4709))\n",
      "41)\t[add, add, add, 2, 13, div, 12, 3, div, sub, 4, 5, div, 9, tensor(-0.8871)] (fit: tensor(1249.5719))\n",
      "42)\t[div, div, div, 7, 12, sub, 2, 11, div, sub, 1, 6, div, 4, 11] (fit: tensor(4.8940))\n",
      "43)\t[add, div, sub, 7, 1, div, 5, 7, add, div, 2, 6, sub, 8, 5] (fit: tensor(532.8214))\n",
      "44)\t[add, div, mul, 6, 9, mul, 8, tensor(-0.7481), add, sub, 7, 6, sub, 1, tensor(-0.2796)] (fit: tensor(75.5682))\n",
      "45)\t[mul, add, sub, 11, 10, mul, 7, 13, mul, add, 5, 4, sub, tensor(0.0254), 11] (fit: tensor(6967.1987))\n",
      "46)\t[mul, div, div, 12, 5, mul, 6, 12, mul, div, 5, 13, mul, 3, 11] (fit: tensor(4.8736))\n",
      "47)\t[sub, sub, div, 3, tensor(0.5031), sub, 7, 0, div, mul, 5, 3, add, 0, 9] (fit: tensor(11007.9941))\n",
      "48)\t[div, add, sub, 9, 13, sub, 13, 1, div, mul, 4, 5, div, 9, tensor(0.9781)] (fit: tensor(6.2229))\n",
      "49)\t[mul, div, div, 7, tensor(-0.3734), mul, 3, 7, div, div, 7, 9, div, 5, 3] (fit: tensor(4.9041))\n",
      "50)\t[add, div, sub, 11, 6, mul, 9, 10, div, mul, 0, 2, div, 11, 4] (fit: tensor(17860.6465))\n",
      "51)\t[sub, div, div, 10, 4, div, 10, 9, sub, add, 8, 13, sub, 7, tensor(0.2984)] (fit: tensor(29.2035))\n",
      "52)\t[sub, mul, add, 5, 1, div, tensor(-0.8292), 0, sub, mul, tensor(-0.0603), 13, div, 10, 10] (fit: tensor(181.7390))\n",
      "53)\t[mul, add, add, 0, 12, div, 13, 9, div, sub, 0, tensor(-0.5128), add, 6, 3] (fit: tensor(4.2649))\n",
      "54)\t[sub, mul, mul, 0, 13, mul, 4, tensor(-0.7046), div, sub, 13, 8, mul, 5, 1] (fit: tensor(271.4247))\n",
      "55)\t[div, div, add, 12, tensor(0.7391), sub, 7, 9, add, sub, 0, 4, add, 12, 6] (fit: tensor(4.9017))\n",
      "56)\t[add, div, add, 4, 7, div, 2, 1, sub, mul, 11, 2, mul, 2, 8] (fit: tensor(952.8044))\n",
      "57)\t[add, mul, add, 11, 5, sub, 7, 11, mul, div, 1, 9, add, 6, tensor(-0.8853)] (fit: tensor(1947.6887))\n",
      "58)\t[mul, mul, div, 5, 3, sub, 8, 9, div, sub, 11, 0, sub, 13, 9] (fit: tensor(43.1183))\n",
      "59)\t[div, div, div, 8, 10, add, 8, tensor(-0.4466), div, div, 3, 1, add, 1, 12] (fit: tensor(4.5664))\n",
      "60)\t[div, mul, add, 2, 9, div, 12, 11, add, sub, 6, 10, mul, 3, 7] (fit: tensor(3.5508))\n",
      "61)\t[add, sub, add, 8, tensor(0.7517), sub, 5, 9, add, add, 3, 11, mul, 6, tensor(0.9720)] (fit: tensor(432.1302))\n",
      "62)\t[sub, mul, div, 9, 4, div, 12, 9, sub, add, tensor(0.0784), tensor(-0.6531), div, 13, 6] (fit: tensor(3.8565))\n",
      "63)\t[div, sub, add, 4, 3, add, 12, 11, sub, sub, 12, 8, mul, 4, 3] (fit: tensor(5.1147))\n",
      "64)\t[div, add, add, 8, 12, div, 9, tensor(0.7167), add, div, 8, 10, mul, 3, 1] (fit: tensor(4.8620))\n",
      "65)\t[div, div, add, 13, 5, div, 9, 8, sub, div, tensor(-0.8435), 5, add, 2, 13] (fit: tensor(13.0871))\n",
      "66)\t[div, mul, mul, 3, tensor(-0.8855), add, 9, 5, add, mul, 13, 13, add, tensor(-0.5453), 9] (fit: tensor(39544.2852))\n",
      "67)\t[mul, sub, sub, 13, 7, add, 0, 9, mul, add, 13, 5, add, 7, 10] (fit: tensor(45004.2930))\n",
      "68)\t[sub, div, sub, 3, tensor(-0.1099), add, 0, 0, add, sub, 11, 7, sub, 9, 10] (fit: tensor(10.5537))\n",
      "69)\t[mul, div, add, tensor(-0.3268), 11, add, 13, 10, mul, mul, 7, 1, div, 10, 8] (fit: tensor(4.9466))\n",
      "70)\t[sub, mul, div, 9, tensor(-0.1157), div, 0, 3, add, div, 3, 7, div, 13, 3] (fit: tensor(29.2157))\n",
      "71)\t[div, sub, sub, tensor(0.9516), 8, div, 6, 10, div, div, tensor(0.1083), 1, sub, 3, 10] (fit: tensor(3.8822))\n",
      "72)\t[mul, div, add, 0, 9, sub, 7, 4, div, div, tensor(-0.4290), 3, add, tensor(-0.0120), 0] (fit: tensor(4.8737))\n",
      "73)\t[sub, sub, div, 2, 1, add, 5, 1, mul, add, 2, 13, div, tensor(0.4966), 7] (fit: tensor(519.7736))\n",
      "74)\t[sub, add, mul, 11, 9, add, 3, tensor(0.6066), sub, div, tensor(-0.4237), 12, mul, 9, tensor(-0.8451)] (fit: tensor(68.6720))\n",
      "75)\t[sub, sub, sub, 1, 11, mul, 8, 5, mul, mul, 8, 7, add, 6, tensor(0.2703)] (fit: tensor(1971.5088))\n",
      "76)\t[add, sub, sub, 12, 7, div, 5, 6, add, add, 1, 8, sub, 9, 4] (fit: tensor(17.4146))\n",
      "77)\t[mul, div, div, 6, 6, div, 5, 1, sub, div, 12, tensor(-0.5869), div, 0, 7] (fit: tensor(4.8936))\n",
      "78)\t[sub, add, mul, 10, 13, mul, tensor(0.7495), 1, div, mul, tensor(-0.4235), 1, add, 4, 11] (fit: tensor(19.3186))\n",
      "79)\t[div, mul, div, 6, 3, mul, 7, tensor(-0.7237), sub, mul, 1, 5, add, 3, 3] (fit: tensor(4.8829))\n",
      "80)\t[sub, mul, mul, 4, 7, div, 3, 13, mul, add, 3, 6, sub, 12, 12] (fit: tensor(58.7989))\n",
      "81)\t[sub, div, div, 12, 7, sub, 2, 13, add, add, 2, 4, mul, 8, 3] (fit: tensor(526.4582))\n",
      "82)\t[add, mul, mul, tensor(-0.7889), 7, sub, 7, 8, sub, sub, 0, 10, mul, 7, 6] (fit: tensor(144.6677))\n",
      "83)\t[mul, mul, add, 12, 3, mul, 10, 8, div, add, 5, 9, add, 9, 9] (fit: tensor(136604.5469))\n",
      "84)\t[add, sub, sub, 5, 13, add, 12, 0, add, div, 13, 1, mul, 0, 9] (fit: tensor(519.9508))\n",
      "85)\t[add, div, add, 11, 11, mul, 5, 12, sub, mul, 8, 12, div, 12, 13] (fit: tensor(4.5704))\n",
      "86)\t[add, add, sub, 4, 6, add, 8, 13, mul, sub, 3, 11, sub, 12, tensor(0.5307)] (fit: tensor(48.9275))\n",
      "87)\t[sub, sub, sub, 6, 5, add, 6, 10, mul, div, 11, 1, add, 12, 11] (fit: tensor(543.7739))\n",
      "88)\t[mul, sub, mul, 2, 1, sub, 11, 6, add, mul, 3, 7, add, 3, 3] (fit: tensor(512910.4062))\n",
      "89)\t[sub, sub, add, 11, 10, add, 4, 0, div, div, 10, 3, mul, 11, 4] (fit: tensor(13.1484))\n",
      "90)\t[add, mul, add, 9, 4, div, 13, 0, div, div, 13, 3, add, 13, tensor(0.2100)] (fit: tensor(54.9837))\n",
      "91)\t[mul, add, add, 10, 5, mul, 6, 0, mul, div, 4, 6, sub, 7, 13] (fit: tensor(1697.7893))\n",
      "92)\t[mul, mul, mul, 0, 9, div, 3, 1, sub, add, 12, 1, mul, tensor(-0.7409), tensor(-0.2719)] (fit: tensor(486.6194))\n",
      "93)\t[mul, div, sub, 12, 2, div, 4, 5, mul, add, 10, 4, add, 5, 11] (fit: tensor(1.0781e+08))\n",
      "94)\t[sub, add, div, 5, 12, mul, 8, 5, mul, div, 12, 12, add, 4, 4] (fit: tensor(16938.0488))\n",
      "95)\t[sub, mul, sub, 7, 7, mul, 5, 7, add, sub, 10, 5, add, 5, 2] (fit: tensor(336.0856))\n",
      "96)\t[add, add, div, 11, 13, add, 2, 8, mul, mul, 0, tensor(0.2620), add, 8, 9] (fit: tensor(332.1849))\n",
      "97)\t[add, mul, sub, 13, 10, sub, 4, 7, div, mul, tensor(0.8961), 4, add, tensor(0.1967), 2] (fit: tensor(45.5447))\n",
      "98)\t[sub, add, div, 11, 9, sub, 12, 2, sub, add, 2, 9, div, 5, 9] (fit: tensor(936.4140))\n",
      "99)\t[add, add, sub, 11, 11, div, 1, 13, mul, sub, 12, 4, sub, 6, tensor(-0.5495)] (fit: tensor(208.6400))\n",
      "\n"
     ]
    }
   ],
   "source": [
    "print(mheuristic.pop)"
   ]
  },
  {
   "cell_type": "code",
   "execution_count": 20,
   "metadata": {},
   "outputs": [
    {
     "name": "stdout",
     "output_type": "stream",
     "text": [
      "[div, mul, mul, 1, 8, mul, 13, 2, sub, sub, 1, 10, add, 6, 11]\n"
     ]
    }
   ],
   "source": [
    "print(mheuristic.pop.individuals[0].repr_)"
   ]
  },
  {
   "cell_type": "code",
   "execution_count": 21,
   "metadata": {},
   "outputs": [
    {
     "name": "stdout",
     "output_type": "stream",
     "text": [
      "[add, div, mul, tensor(0.9489), 4, sub, 5, 3, sub, add, 12, 11, add, 8, tensor(-0.0809)]\n"
     ]
    }
   ],
   "source": [
    "print(mheuristic.pop.individuals[1].repr_)"
   ]
  },
  {
   "cell_type": "markdown",
   "metadata": {},
   "source": [
    "#### **2.7. GP Population**"
   ]
  },
  {
   "cell_type": "code",
   "execution_count": 22,
   "metadata": {},
   "outputs": [
    {
     "name": "stdout",
     "output_type": "stream",
     "text": [
      "\n",
      "GP population: <class 'gpolnel.utils.population.PopulationTree'> (100 individuals)\n",
      "\n",
      "Poppulation fitness tensor([2510.5195,    7.4066,   40.1837])...\n",
      "Poppulation valid [True, True, True]...\n",
      "\n",
      "Individual 0: [div, mul, mul, 1, 8, mul, 13, 2, sub, sub, 1, 10, add, 6, 11], fitness 2510.51953125\n",
      "Individual 1: [add, div, mul, tensor(0.9489), 4, sub, 5, 3, sub, add, 12, 11, add, 8, tensor(-0.0809)], fitness 7.406620025634766\n",
      "Individual 2: [sub, mul, add, 10, tensor(0.5594), mul, 9, 4, div, div, 5, 4, sub, 8, tensor(-0.5015)], fitness 40.183658599853516\n",
      "\n",
      "GP best individual sub( div( sub( x_9, x_6 ) sub( x_2, x_13 ) ) sub( add( 0.1103, -0.0268 ) sub( x_8, x_12 ) ) ), fitness 2.4600532054901123\n",
      "\n",
      "\n"
     ]
    }
   ],
   "source": [
    "print(f'\\nGP population: {mheuristic.pop.__class__} ({len(mheuristic.pop)} individuals)')\n",
    "\n",
    "print(f'\\nPoppulation fitness {mheuristic.pop.fit[:3]}...')\n",
    "print(f'Poppulation valid {mheuristic.pop.valid[:3]}...\\n')\n",
    "\n",
    "for i in range(3):\n",
    "    print(f'Individual {i}: {mheuristic.pop.individuals[i].repr_}, fitness {mheuristic.pop.individuals[i].fit}') # how to access the fitness - you need to explore the code more\n",
    "\n",
    "print(f'\\nGP best individual {mheuristic.best_sol.printTree(out=\"string\")}, fitness {mheuristic.best_sol.fit}\\n\\n')\n"
   ]
  },
  {
   "cell_type": "markdown",
   "metadata": {},
   "source": [
    "#### **2.8. Solve**"
   ]
  },
  {
   "cell_type": "code",
   "execution_count": 23,
   "metadata": {},
   "outputs": [],
   "source": [
    "# Log settings\n",
    "file_dir = './log/'\n",
    "file_name = 'intro.log'\n",
    "log_path = file_dir + file_name\n",
    "if os.path.exists(file_dir + file_name):\n",
    "    os.remove(file_dir + file_name)\n",
    "if not os.path.exists(file_dir):\n",
    "    os.makedirs(file_dir)"
   ]
  },
  {
   "cell_type": "code",
   "execution_count": 24,
   "metadata": {},
   "outputs": [
    {
     "name": "stdout",
     "output_type": "stream",
     "text": [
      "-------------------------------------------------------------------------------------------------------\n",
      "           |                    Best solution                      |            Population            |\n",
      "-------------------------------------------------------------------------------------------------------\n",
      "Generation | Length   Fitness          Test Fitness         Timing | AVG Fitness           STD Fitness\n",
      "-------------------------------------------------------------------------------------------------------\n",
      "0          | 15       1.34769          1.86407               0.220 | 1.70061e+07           1.65937e+08\n",
      "1          | 27       0.814253         0.752403              0.181 | 588.511                   3851.17\n",
      "2          | 27       0.814251         0.752403              0.182 | 702.399                   4238.31\n",
      "3          | 15       0.787592         0.728088              0.138 | 34.1425                   164.302\n",
      "4          | 15       0.785111         0.728686              0.237 | 66.2447                   325.143\n",
      "5          | 15       0.753665         0.727343              0.186 | 73.8781                   322.297\n",
      "6          | 19       0.745057         0.670594              0.182 | 59.5228                   483.841\n",
      "7          | 27       0.741476         0.693876              0.173 | 49.3842                   185.887\n",
      "8          | 13       0.714742         0.698392              0.209 | 57.1418                    222.46\n",
      "9          | 23       0.685541         0.673059              0.204 | 9.22337e+16           9.22337e+17\n",
      "10         | 23       0.685541         0.673059              0.267 | 2.76701e+17           1.58132e+18\n",
      "11         | 25       0.684344         0.671951              0.229 | 1.84467e+17           1.29778e+18\n",
      "12         | 21       0.681014         0.668085              0.195 | 1.1068e+18            3.01234e+18\n",
      "13         | 39       0.679108         0.669854              0.178 | 7.3787e+17            2.51484e+18\n",
      "14         | 39       0.671452         0.656694              0.186 | 1.29127e+18           3.21651e+18\n",
      "15         | 39       0.671452         0.656694              0.192 | 1.1068e+18            3.01234e+18\n",
      "16         | 39       0.661262         0.647321              0.299 | 1.47574e+18           3.39838e+18\n",
      "17         | 39       0.624919         0.645116              0.261 | 1.29127e+18           3.21651e+18\n",
      "18         | 39       0.624919         0.645116              0.216 | 1.56797e+18           3.48206e+18\n",
      "19         | 39       0.624919         0.645116              0.359 | 1.29127e+18           3.21651e+18\n",
      "20         | 39       0.624919         0.645116              0.217 | 1.84467e+18           3.70794e+18\n",
      "21         | 39       0.624919         0.645116              0.223 | 9.22337e+17           2.78095e+18\n",
      "22         | 39       0.624919         0.645116              0.288 | 1.19904e+18           3.11748e+18\n"
     ]
    }
   ],
   "source": [
    "# Learning\n",
    "n_iter = 100\n",
    "mheuristic.solve(\n",
    "    n_iter,\n",
    "    tol=0.0001,\n",
    "    verbose=3, log=3, log_path=log_path,\n",
    "    test_elite=True\n",
    ")"
   ]
  },
  {
   "cell_type": "code",
   "execution_count": 25,
   "metadata": {},
   "outputs": [
    {
     "name": "stdout",
     "output_type": "stream",
     "text": [
      "sub( x_4, div( div( mul( x_1, mul( div( x_7, 0.7388 ) sub( x_7, x_12 ) ) ) sub( x_4, div( div( mul( add( x_0, sub( x_7, x_12 ) ) 0.8512 ) sub( x_7, x_12 ) ) sub( x_8, div( mul( -0.2204, x_9 ) mul( -0.2204, x_9 ) ) ) ) ) ) sub( x_8, x_3 ) ) )\n"
     ]
    }
   ],
   "source": [
    "mheuristic.best_sol.printTree()"
   ]
  },
  {
   "cell_type": "markdown",
   "metadata": {},
   "source": [
    "#### **Notes by hand - Initial exploration**\n",
    "\n",
    "Experimenting with different combinations of selectors, initializers and elitism"
   ]
  },
  {
   "cell_type": "markdown",
   "metadata": {},
   "source": [
    "##### Selectors<br>"
   ]
  },
  {
   "cell_type": "markdown",
   "metadata": {},
   "source": [
    "**prm_tournament**<br>\n",
    "n_iter=50<br>\n",
    "- with elitism=False = 0.506  -  0.546  - 0.473\n",
    "- with elitism=True = 0.627  -  0.708  -  0.567<br>\n",
    "\n",
    "n_iter=100\n",
    "- with el=False = 0.470  - 0.527  - 0.502\n",
    "- with el=True = 0.498  -  0.558  -  1.085<br>\n",
    "\n",
    "n_iter=150\n",
    "- with el=False = 0.283  - 0.352  - 0.816\n",
    "- with el=True = 0.336  -  0.393  -  1.244<br>\n",
    "\n",
    "= we can see that after 50 iterations and *without elitism* the changes are very small, so we'll stick to n_iter=50 as implemented in class<br>\n",
    "while *with elitism* the changes are small and steadily for all iterations<br>\n",
    "= we can see that with elitism at n_iter=50 we get worse results<br>\n",
    "<br>\n",
    "\n",
    "**Rank Selection**<br>\n",
    "gives worse results in n_iter=100 of\n",
    "- with elitism=True = 0.689  -  0.687  -  0.307\n",
    "- with elitism=False = 0.804  -  0.761  -  0.283<br>\n",
    "<br>\n",
    "\n",
    "**Roulette wheel**<br>\n",
    "n_iter=100\n",
    "- with el=True = (gets stuck at iter=89)  0.579 - 0.480 - 0.289\n",
    "- with el=False = (gets stuck at ietr=40) 1.43 - 1.26 - 0.307\n",
    "\n",
    "__________________________________________________<br>\n",
    "***Conclusion***:\n",
    "- Rank Sel : highest numbers and probably overfittng\n",
    "- Roulette : not the best results ( better with elitism) - overfits\n",
    "- Tournam : best results(without elitism) - no overfitting\n",
    "\n",
    "**=> Tournament without elitism**"
   ]
  },
  {
   "cell_type": "markdown",
   "metadata": {},
   "source": [
    "##### Initializers"
   ]
  },
  {
   "cell_type": "markdown",
   "metadata": {},
   "source": [
    "n_iter=50\n",
    "\n",
    "**grow**<br>\n",
    "0.506 - 0.546 - 0.507\n",
    "\n",
    "**full**<br>\n",
    "0.202 - 0.225 - 0.492\n",
    "\n",
    "\n",
    "**=> FULL initializer**"
   ]
  },
  {
   "cell_type": "markdown",
   "metadata": {},
   "source": [
    "#### **2.9 Evolution of GP**"
   ]
  },
  {
   "cell_type": "code",
   "execution_count": 26,
   "metadata": {},
   "outputs": [],
   "source": [
    "# Open log file\n",
    "rows = []\n",
    "with open(log_path, 'r') as file:\n",
    "    # Create a CSV reader object\n",
    "    csv_reader = csv.reader(file)\n",
    "    # Iterate over each row in the CSV file\n",
    "    for row in csv_reader:\n",
    "        # Process each row (each row is a list of values)\n",
    "        rows.append(row)\n",
    "\n",
    "# Fitness history\n",
    "history_fits = [float(row[7].split('(')[1].split(')')[0]) for row in rows]\n",
    "\n",
    "# Val fitness history\n",
    "history_val_fits = [float(row[7].split('(')[1].split(')')[0]) for row in rows]\n",
    "\n",
    "# Solution size history\n",
    "history_sizes = [int(row[6]) for row in rows]\n",
    "\n",
    "# Runtime\n",
    "history_timing = [float(row[5]) for row in rows]\n"
   ]
  },
  {
   "cell_type": "code",
   "execution_count": 27,
   "metadata": {},
   "outputs": [
    {
     "data": {
      "image/png": "[encoded data removed]",
      "text/plain": [
       "<Figure size 1000x400 with 1 Axes>"
      ]
     },
     "metadata": {},
     "output_type": "display_data"
    }
   ],
   "source": [
    "# Plotting the evolution of fitness(=RMSE)\n",
    "plt.figure(figsize=(10, 4))\n",
    "plt.plot(history_fits, label='Train')\n",
    "plt.plot(history_val_fits, label='Validation')\n",
    "plt.title('Fitness evolution')\n",
    "plt.xlabel('Generation')\n",
    "plt.ylabel('RMSE')\n",
    "plt.ylim(bottom=0, top=2.5)\n",
    "plt.legend()\n",
    "plt.show()"
   ]
  },
  {
   "cell_type": "code",
   "execution_count": 28,
   "metadata": {},
   "outputs": [
    {
     "data": {
      "image/png": "[encoded data removed]",
      "text/plain": [
       "<Figure size 1000x400 with 1 Axes>"
      ]
     },
     "metadata": {},
     "output_type": "display_data"
    }
   ],
   "source": [
    "# Plotting the evolution of the solution size\n",
    "plt.figure(figsize=(10, 4))\n",
    "plt.plot(history_sizes)\n",
    "plt.title('Solution size evolution')\n",
    "plt.xlabel('Generation')\n",
    "plt.ylabel('Size')\n",
    "plt.ylim(bottom=0)\n",
    "plt.show()"
   ]
  },
  {
   "cell_type": "markdown",
   "metadata": {},
   "source": [
    "#### **2.10 Evaluation of GP**"
   ]
  },
  {
   "cell_type": "code",
   "execution_count": 72,
   "metadata": {},
   "outputs": [],
   "source": [
    "# Set the best solution of the population\n",
    "mheuristic._set_best_sol()"
   ]
  },
  {
   "cell_type": "code",
   "execution_count": 73,
   "metadata": {},
   "outputs": [],
   "source": [
    "# Evaluate the final solution\n",
    "best_individual = mheuristic.best_sol\n",
    "best_solution = best_individual.repr_"
   ]
  },
  {
   "cell_type": "code",
   "execution_count": 74,
   "metadata": {},
   "outputs": [
    {
     "name": "stderr",
     "output_type": "stream",
     "text": [
      "C:\\Users\\andri\\AppData\\Local\\Temp\\ipykernel_8988\\2231323160.py:2: UserWarning: To copy construct from a tensor, it is recommended to use sourceTensor.clone().detach() or sourceTensor.clone().detach().requires_grad_(True), rather than torch.tensor(sourceTensor).\n",
      "  ds_test = TensorDataset(torch.tensor(X_test, dtype=torch.float32), torch.tensor(y_test, dtype=torch.float32))\n"
     ]
    }
   ],
   "source": [
    "# Using the best solution for predictions on the test set\n",
    "ds_test = TensorDataset(torch.tensor(X_test, dtype=torch.float32), torch.tensor(y_test, dtype=torch.float32))\n",
    "dl_test = DataLoader(ds_test, batch_size=batch_size, shuffle=False)\n",
    "y_pred = pi_sml.predict_sol_data_loader(best_solution, dl_test, device)"
   ]
  },
  {
   "cell_type": "code",
   "execution_count": 75,
   "metadata": {},
   "outputs": [
    {
     "name": "stdout",
     "output_type": "stream",
     "text": [
      "Final RMSE on test set: 0.6897413730621338\n"
     ]
    },
    {
     "name": "stderr",
     "output_type": "stream",
     "text": [
      "C:\\Users\\andri\\AppData\\Local\\Temp\\ipykernel_8988\\3564359875.py:2: UserWarning: To copy construct from a tensor, it is recommended to use sourceTensor.clone().detach() or sourceTensor.clone().detach().requires_grad_(True), rather than torch.tensor(sourceTensor).\n",
      "  final_rmse = torch.sqrt(torch.mean((y_pred - torch.tensor(y_test, dtype=torch.float32).to(device)) ** 2)).item()\n"
     ]
    }
   ],
   "source": [
    "# Compute the final performance on the test set\n",
    "final_rmse = torch.sqrt(torch.mean((y_pred - torch.tensor(y_test, dtype=torch.float32).to(device)) ** 2)).item()\n",
    "print(f'Final RMSE on test set: {final_rmse}')"
   ]
  },
  {
   "cell_type": "markdown",
   "metadata": {},
   "source": [
    "#### **Experimenting with different combinations of selectors, initializers and elitism**\n",
    "Combinations of parameters / gridsearch\n",
    "- initializer = ['grow', 'full']\n",
    "- population size: ps = [10, 100]\n",
    "- elitism = ['True', 'False']\n",
    "\n",
    "Run 10 times by hand  => get fintess (rmse) => median(RMSE)"
   ]
  },
  {
   "cell_type": "code",
   "execution_count": 97,
   "metadata": {},
   "outputs": [
    {
     "data": {
      "text/html": [
       "<div>\n",
       "<style scoped>\n",
       "    .dataframe tbody tr th:only-of-type {\n",
       "        vertical-align: middle;\n",
       "    }\n",
       "\n",
       "    .dataframe tbody tr th {\n",
       "        vertical-align: top;\n",
       "    }\n",
       "\n",
       "    .dataframe thead th {\n",
       "        text-align: right;\n",
       "    }\n",
       "</style>\n",
       "<table border=\"1\" class=\"dataframe\">\n",
       "  <thead>\n",
       "    <tr style=\"text-align: right;\">\n",
       "      <th></th>\n",
       "      <th>Run_1</th>\n",
       "      <th>Run_2</th>\n",
       "      <th>Run_3</th>\n",
       "      <th>Run_4</th>\n",
       "      <th>Run_5</th>\n",
       "      <th>Run_6</th>\n",
       "      <th>Run_7</th>\n",
       "      <th>Run_8</th>\n",
       "      <th>Run_9</th>\n",
       "      <th>Run_10</th>\n",
       "    </tr>\n",
       "  </thead>\n",
       "  <tbody>\n",
       "    <tr>\n",
       "      <th>grow|ps=10|elitism=True</th>\n",
       "      <td>0.6079107522964478</td>\n",
       "      <td>1.5609365701675415</td>\n",
       "      <td>0.9192346334457397</td>\n",
       "      <td>2.6489524841308594</td>\n",
       "      <td>1.9101682901382446</td>\n",
       "      <td>1.5929198265075684</td>\n",
       "      <td>2.0614712238311768</td>\n",
       "      <td>2.1674251556396484</td>\n",
       "      <td>2.0538084506988525</td>\n",
       "      <td>1.24635648727417</td>\n",
       "    </tr>\n",
       "    <tr>\n",
       "      <th>grow|ps=10|elitism=False</th>\n",
       "      <td>2.03010630607605</td>\n",
       "      <td>4.458568572998047</td>\n",
       "      <td>3.875152826309204</td>\n",
       "      <td>4.332056045532227</td>\n",
       "      <td>3.5882136821746826</td>\n",
       "      <td>4.0282769203186035</td>\n",
       "      <td>1.6652990579605103</td>\n",
       "      <td>4.78485631942749</td>\n",
       "      <td>2.274578809738159</td>\n",
       "      <td>2.141103506088257</td>\n",
       "    </tr>\n",
       "    <tr>\n",
       "      <th>grow|ps=100|elitism=True</th>\n",
       "      <td>0.6079107522964478</td>\n",
       "      <td>1.244410753250122</td>\n",
       "      <td>0.5319039821624756</td>\n",
       "      <td>0.5805721282958984</td>\n",
       "      <td>0.5707070827484131</td>\n",
       "      <td>0.5806238651275635</td>\n",
       "      <td>0.6897413730621338</td>\n",
       "      <td>0.6079107522964478</td>\n",
       "      <td>0.6079107522964478</td>\n",
       "      <td>0.6158340573310852</td>\n",
       "    </tr>\n",
       "    <tr>\n",
       "      <th>grow|ps=100|elitism=False</th>\n",
       "      <td>0.6079107522964478</td>\n",
       "      <td>0.6079107522964478</td>\n",
       "      <td>0.5918365716934204</td>\n",
       "      <td>0.600180983543396</td>\n",
       "      <td>0.5516688227653503</td>\n",
       "      <td>0.603151798248291</td>\n",
       "      <td>0.6079107522964478</td>\n",
       "      <td>0.6079107522964478</td>\n",
       "      <td>0.6897413730621338</td>\n",
       "      <td>0.6059889197349548</td>\n",
       "    </tr>\n",
       "    <tr>\n",
       "      <th>full|ps=10|elitism=True</th>\n",
       "      <td>1.5654094219207764</td>\n",
       "      <td>2.8164222240448</td>\n",
       "      <td>2.1674251556396484</td>\n",
       "      <td>1.3267796039581299</td>\n",
       "      <td>2.1674251556396484</td>\n",
       "      <td>1.5654094219207764</td>\n",
       "      <td>0.6079107522964478</td>\n",
       "      <td>0.6079107522964478</td>\n",
       "      <td>3.2683098316192627</td>\n",
       "      <td>1.5393543243408203</td>\n",
       "    </tr>\n",
       "    <tr>\n",
       "      <th>full|ps=10|elitism=False</th>\n",
       "      <td>4.87506103515625</td>\n",
       "      <td>2.7205066680908203</td>\n",
       "      <td>4.8767242431640625</td>\n",
       "      <td>6.266987323760986</td>\n",
       "      <td>3.875152826309204</td>\n",
       "      <td>2.8164222240448</td>\n",
       "      <td>61.43903350830078</td>\n",
       "      <td>2.0218346118927</td>\n",
       "      <td>4.875058650970459</td>\n",
       "      <td>4.472360610961914</td>\n",
       "    </tr>\n",
       "    <tr>\n",
       "      <th>full|ps=100|elitism=True</th>\n",
       "      <td>0.5493314266204834</td>\n",
       "      <td>0.47119712829589844</td>\n",
       "      <td>0.608669102191925</td>\n",
       "      <td>0.7458630800247192</td>\n",
       "      <td>0.4773491322994232</td>\n",
       "      <td>0.26259058713912964</td>\n",
       "      <td>0.8935564756393433</td>\n",
       "      <td>0.5121418237686157</td>\n",
       "      <td>0.3910347521305084</td>\n",
       "      <td>0.6897413730621338</td>\n",
       "    </tr>\n",
       "    <tr>\n",
       "      <th>full|ps=100|elitism=False</th>\n",
       "      <td>0.8121924996376038</td>\n",
       "      <td>0.5505290031433105</td>\n",
       "      <td>2.322157144546509</td>\n",
       "      <td>0.47570231556892395</td>\n",
       "      <td>0.367538183927536</td>\n",
       "      <td>1.117729902267456</td>\n",
       "      <td>0.6079107522964478</td>\n",
       "      <td>0.5745278596878052</td>\n",
       "      <td>0.3378094434738159</td>\n",
       "      <td>0.3646569848060608</td>\n",
       "    </tr>\n",
       "  </tbody>\n",
       "</table>\n",
       "</div>"
      ],
      "text/plain": [
       "                                        Run_1                Run_2  \\\n",
       "grow|ps=10|elitism=True    0.6079107522964478   1.5609365701675415   \n",
       "grow|ps=10|elitism=False     2.03010630607605    4.458568572998047   \n",
       "grow|ps=100|elitism=True   0.6079107522964478    1.244410753250122   \n",
       "grow|ps=100|elitism=False  0.6079107522964478   0.6079107522964478   \n",
       "full|ps=10|elitism=True    1.5654094219207764      2.8164222240448   \n",
       "full|ps=10|elitism=False     4.87506103515625   2.7205066680908203   \n",
       "full|ps=100|elitism=True   0.5493314266204834  0.47119712829589844   \n",
       "full|ps=100|elitism=False  0.8121924996376038   0.5505290031433105   \n",
       "\n",
       "                                        Run_3                Run_4  \\\n",
       "grow|ps=10|elitism=True    0.9192346334457397   2.6489524841308594   \n",
       "grow|ps=10|elitism=False    3.875152826309204    4.332056045532227   \n",
       "grow|ps=100|elitism=True   0.5319039821624756   0.5805721282958984   \n",
       "grow|ps=100|elitism=False  0.5918365716934204    0.600180983543396   \n",
       "full|ps=10|elitism=True    2.1674251556396484   1.3267796039581299   \n",
       "full|ps=10|elitism=False   4.8767242431640625    6.266987323760986   \n",
       "full|ps=100|elitism=True    0.608669102191925   0.7458630800247192   \n",
       "full|ps=100|elitism=False   2.322157144546509  0.47570231556892395   \n",
       "\n",
       "                                         Run_5                Run_6  \\\n",
       "grow|ps=10|elitism=True     1.9101682901382446   1.5929198265075684   \n",
       "grow|ps=10|elitism=False    3.5882136821746826   4.0282769203186035   \n",
       "grow|ps=100|elitism=True    0.5707070827484131   0.5806238651275635   \n",
       "grow|ps=100|elitism=False   0.5516688227653503    0.603151798248291   \n",
       "full|ps=10|elitism=True     2.1674251556396484   1.5654094219207764   \n",
       "full|ps=10|elitism=False     3.875152826309204      2.8164222240448   \n",
       "full|ps=100|elitism=True    0.4773491322994232  0.26259058713912964   \n",
       "full|ps=100|elitism=False    0.367538183927536    1.117729902267456   \n",
       "\n",
       "                                        Run_7               Run_8  \\\n",
       "grow|ps=10|elitism=True    2.0614712238311768  2.1674251556396484   \n",
       "grow|ps=10|elitism=False   1.6652990579605103    4.78485631942749   \n",
       "grow|ps=100|elitism=True   0.6897413730621338  0.6079107522964478   \n",
       "grow|ps=100|elitism=False  0.6079107522964478  0.6079107522964478   \n",
       "full|ps=10|elitism=True    0.6079107522964478  0.6079107522964478   \n",
       "full|ps=10|elitism=False    61.43903350830078     2.0218346118927   \n",
       "full|ps=100|elitism=True   0.8935564756393433  0.5121418237686157   \n",
       "full|ps=100|elitism=False  0.6079107522964478  0.5745278596878052   \n",
       "\n",
       "                                        Run_9              Run_10  \n",
       "grow|ps=10|elitism=True    2.0538084506988525    1.24635648727417  \n",
       "grow|ps=10|elitism=False    2.274578809738159   2.141103506088257  \n",
       "grow|ps=100|elitism=True   0.6079107522964478  0.6158340573310852  \n",
       "grow|ps=100|elitism=False  0.6897413730621338  0.6059889197349548  \n",
       "full|ps=10|elitism=True    3.2683098316192627  1.5393543243408203  \n",
       "full|ps=10|elitism=False    4.875058650970459   4.472360610961914  \n",
       "full|ps=100|elitism=True   0.3910347521305084  0.6897413730621338  \n",
       "full|ps=100|elitism=False  0.3378094434738159  0.3646569848060608  "
      ]
     },
     "execution_count": 97,
     "metadata": {},
     "output_type": "execute_result"
    }
   ],
   "source": [
    "import pandas as pd\n",
    "# manually insterting RMSE of each run and each combination\n",
    "combinations = {\n",
    "    'grow|ps=10|elitism=True': ['0.6079107522964478', ' 1.5609365701675415', '0.9192346334457397', '2.6489524841308594', '1.9101682901382446', '1.5929198265075684', '2.0614712238311768', '2.1674251556396484', '2.0538084506988525', ' 1.24635648727417'],\n",
    "    'grow|ps=10|elitism=False': ['2.03010630607605', '4.458568572998047', '3.875152826309204', '4.332056045532227', ' 3.5882136821746826', '4.0282769203186035', '1.6652990579605103', '4.78485631942749', '2.274578809738159', ' 2.141103506088257'],\n",
    "\n",
    "    'grow|ps=100|elitism=True': ['0.6079107522964478', '1.244410753250122', '0.5319039821624756', '0.5805721282958984', '0.5707070827484131', '0.5806238651275635', '0.6897413730621338', '0.6079107522964478', '0.6079107522964478', '0.6158340573310852'],\n",
    "    'grow|ps=100|elitism=False': ['0.6079107522964478', '0.6079107522964478', '0.5918365716934204', '0.600180983543396', '0.5516688227653503', '0.603151798248291', '0.6079107522964478', '0.6079107522964478', '0.6897413730621338', '0.6059889197349548'],\n",
    "\n",
    "    'full|ps=10|elitism=True': ['1.5654094219207764', '2.8164222240448', '2.1674251556396484', '1.3267796039581299', '2.1674251556396484', '1.5654094219207764', '0.6079107522964478', '0.6079107522964478', '3.2683098316192627', '1.5393543243408203'],\n",
    "    'full|ps=10|elitism=False': ['4.87506103515625', '2.7205066680908203', '4.8767242431640625', '6.266987323760986', '3.875152826309204' , '2.8164222240448', '61.43903350830078', '2.0218346118927', '4.875058650970459', '4.472360610961914'],\n",
    "    \n",
    "    'full|ps=100|elitism=True': ['0.5493314266204834', '0.47119712829589844', '0.608669102191925', '0.7458630800247192', '0.4773491322994232', '0.26259058713912964', '0.8935564756393433', '0.5121418237686157', '0.3910347521305084', '0.6897413730621338'],\n",
    "    'full|ps=100|elitism=False': ['0.8121924996376038', '0.5505290031433105', '2.322157144546509', '0.47570231556892395', '0.367538183927536', '1.117729902267456', '0.6079107522964478', '0.5745278596878052', '0.3378094434738159', '0.3646569848060608']\n",
    "}\n",
    "df_combo = pd.DataFrame(combinations).T\n",
    "\n",
    "# add the 'Runs' as columns\n",
    "df_combo.columns = [f'Run_{i+1}' for i in range(len(df_combo.columns))]\n",
    "df_combo.rename(columns={'index': 'Runs'}, inplace=True)\n",
    "\n",
    "# display the updated df\n",
    "df_combo"
   ]
  },
  {
   "cell_type": "code",
   "execution_count": 99,
   "metadata": {},
   "outputs": [
    {
     "data": {
      "text/html": [
       "<div>\n",
       "<style scoped>\n",
       "    .dataframe tbody tr th:only-of-type {\n",
       "        vertical-align: middle;\n",
       "    }\n",
       "\n",
       "    .dataframe tbody tr th {\n",
       "        vertical-align: top;\n",
       "    }\n",
       "\n",
       "    .dataframe thead th {\n",
       "        text-align: right;\n",
       "    }\n",
       "</style>\n",
       "<table border=\"1\" class=\"dataframe\">\n",
       "  <thead>\n",
       "    <tr style=\"text-align: right;\">\n",
       "      <th></th>\n",
       "      <th>Run_1</th>\n",
       "      <th>Run_2</th>\n",
       "      <th>Run_3</th>\n",
       "      <th>Run_4</th>\n",
       "      <th>Run_5</th>\n",
       "      <th>Run_6</th>\n",
       "      <th>Run_7</th>\n",
       "      <th>Run_8</th>\n",
       "      <th>Run_9</th>\n",
       "      <th>Run_10</th>\n",
       "      <th>Median RMSE</th>\n",
       "      <th>Avg RMSE</th>\n",
       "    </tr>\n",
       "  </thead>\n",
       "  <tbody>\n",
       "    <tr>\n",
       "      <th>grow|ps=10|elitism=True</th>\n",
       "      <td>0.6079107522964478</td>\n",
       "      <td>1.560937</td>\n",
       "      <td>0.919235</td>\n",
       "      <td>2.648952</td>\n",
       "      <td>1.910168</td>\n",
       "      <td>1.59292</td>\n",
       "      <td>2.061471</td>\n",
       "      <td>2.167425</td>\n",
       "      <td>2.053808</td>\n",
       "      <td>1.246356</td>\n",
       "      <td>1.910168</td>\n",
       "      <td>1.807144</td>\n",
       "    </tr>\n",
       "    <tr>\n",
       "      <th>grow|ps=10|elitism=False</th>\n",
       "      <td>2.03010630607605</td>\n",
       "      <td>4.458569</td>\n",
       "      <td>3.875153</td>\n",
       "      <td>4.332056</td>\n",
       "      <td>3.588214</td>\n",
       "      <td>4.028277</td>\n",
       "      <td>1.665299</td>\n",
       "      <td>4.784856</td>\n",
       "      <td>2.274579</td>\n",
       "      <td>2.141104</td>\n",
       "      <td>3.875153</td>\n",
       "      <td>3.502326</td>\n",
       "    </tr>\n",
       "    <tr>\n",
       "      <th>grow|ps=100|elitism=True</th>\n",
       "      <td>0.6079107522964478</td>\n",
       "      <td>1.244411</td>\n",
       "      <td>0.531904</td>\n",
       "      <td>0.580572</td>\n",
       "      <td>0.570707</td>\n",
       "      <td>0.580624</td>\n",
       "      <td>0.689741</td>\n",
       "      <td>0.607911</td>\n",
       "      <td>0.607911</td>\n",
       "      <td>0.615834</td>\n",
       "      <td>0.607911</td>\n",
       "      <td>0.663753</td>\n",
       "    </tr>\n",
       "    <tr>\n",
       "      <th>grow|ps=100|elitism=False</th>\n",
       "      <td>0.6079107522964478</td>\n",
       "      <td>0.607911</td>\n",
       "      <td>0.591837</td>\n",
       "      <td>0.600181</td>\n",
       "      <td>0.551669</td>\n",
       "      <td>0.603152</td>\n",
       "      <td>0.607911</td>\n",
       "      <td>0.607911</td>\n",
       "      <td>0.689741</td>\n",
       "      <td>0.605989</td>\n",
       "      <td>0.605989</td>\n",
       "      <td>0.607229</td>\n",
       "    </tr>\n",
       "    <tr>\n",
       "      <th>full|ps=10|elitism=True</th>\n",
       "      <td>1.5654094219207764</td>\n",
       "      <td>2.816422</td>\n",
       "      <td>2.167425</td>\n",
       "      <td>1.32678</td>\n",
       "      <td>2.167425</td>\n",
       "      <td>1.565409</td>\n",
       "      <td>0.607911</td>\n",
       "      <td>0.607911</td>\n",
       "      <td>3.26831</td>\n",
       "      <td>1.539354</td>\n",
       "      <td>1.565409</td>\n",
       "      <td>1.763236</td>\n",
       "    </tr>\n",
       "    <tr>\n",
       "      <th>full|ps=10|elitism=False</th>\n",
       "      <td>4.87506103515625</td>\n",
       "      <td>2.720507</td>\n",
       "      <td>4.876724</td>\n",
       "      <td>6.266987</td>\n",
       "      <td>3.875153</td>\n",
       "      <td>2.816422</td>\n",
       "      <td>61.439034</td>\n",
       "      <td>2.021835</td>\n",
       "      <td>4.875059</td>\n",
       "      <td>4.472361</td>\n",
       "      <td>4.472361</td>\n",
       "      <td>9.783644</td>\n",
       "    </tr>\n",
       "    <tr>\n",
       "      <th>full|ps=100|elitism=True</th>\n",
       "      <td>0.5493314266204834</td>\n",
       "      <td>0.471197</td>\n",
       "      <td>0.608669</td>\n",
       "      <td>0.745863</td>\n",
       "      <td>0.477349</td>\n",
       "      <td>0.262591</td>\n",
       "      <td>0.893556</td>\n",
       "      <td>0.512142</td>\n",
       "      <td>0.391035</td>\n",
       "      <td>0.689741</td>\n",
       "      <td>0.512142</td>\n",
       "      <td>0.556429</td>\n",
       "    </tr>\n",
       "    <tr>\n",
       "      <th>full|ps=100|elitism=False</th>\n",
       "      <td>0.8121924996376038</td>\n",
       "      <td>0.550529</td>\n",
       "      <td>2.322157</td>\n",
       "      <td>0.475702</td>\n",
       "      <td>0.367538</td>\n",
       "      <td>1.11773</td>\n",
       "      <td>0.607911</td>\n",
       "      <td>0.574528</td>\n",
       "      <td>0.337809</td>\n",
       "      <td>0.364657</td>\n",
       "      <td>0.550529</td>\n",
       "      <td>0.726909</td>\n",
       "    </tr>\n",
       "  </tbody>\n",
       "</table>\n",
       "</div>"
      ],
      "text/plain": [
       "                                        Run_1     Run_2     Run_3     Run_4  \\\n",
       "grow|ps=10|elitism=True    0.6079107522964478  1.560937  0.919235  2.648952   \n",
       "grow|ps=10|elitism=False     2.03010630607605  4.458569  3.875153  4.332056   \n",
       "grow|ps=100|elitism=True   0.6079107522964478  1.244411  0.531904  0.580572   \n",
       "grow|ps=100|elitism=False  0.6079107522964478  0.607911  0.591837  0.600181   \n",
       "full|ps=10|elitism=True    1.5654094219207764  2.816422  2.167425   1.32678   \n",
       "full|ps=10|elitism=False     4.87506103515625  2.720507  4.876724  6.266987   \n",
       "full|ps=100|elitism=True   0.5493314266204834  0.471197  0.608669  0.745863   \n",
       "full|ps=100|elitism=False  0.8121924996376038  0.550529  2.322157  0.475702   \n",
       "\n",
       "                              Run_5     Run_6      Run_7     Run_8     Run_9  \\\n",
       "grow|ps=10|elitism=True    1.910168   1.59292   2.061471  2.167425  2.053808   \n",
       "grow|ps=10|elitism=False   3.588214  4.028277   1.665299  4.784856  2.274579   \n",
       "grow|ps=100|elitism=True   0.570707  0.580624   0.689741  0.607911  0.607911   \n",
       "grow|ps=100|elitism=False  0.551669  0.603152   0.607911  0.607911  0.689741   \n",
       "full|ps=10|elitism=True    2.167425  1.565409   0.607911  0.607911   3.26831   \n",
       "full|ps=10|elitism=False   3.875153  2.816422  61.439034  2.021835  4.875059   \n",
       "full|ps=100|elitism=True   0.477349  0.262591   0.893556  0.512142  0.391035   \n",
       "full|ps=100|elitism=False  0.367538   1.11773   0.607911  0.574528  0.337809   \n",
       "\n",
       "                             Run_10 Median RMSE  Avg RMSE  \n",
       "grow|ps=10|elitism=True    1.246356    1.910168  1.807144  \n",
       "grow|ps=10|elitism=False   2.141104    3.875153  3.502326  \n",
       "grow|ps=100|elitism=True   0.615834    0.607911  0.663753  \n",
       "grow|ps=100|elitism=False  0.605989    0.605989  0.607229  \n",
       "full|ps=10|elitism=True    1.539354    1.565409  1.763236  \n",
       "full|ps=10|elitism=False   4.472361    4.472361  9.783644  \n",
       "full|ps=100|elitism=True   0.689741    0.512142  0.556429  \n",
       "full|ps=100|elitism=False  0.364657    0.550529  0.726909  "
      ]
     },
     "execution_count": 99,
     "metadata": {},
     "output_type": "execute_result"
    }
   ],
   "source": [
    "# convert the string values to floats\n",
    "df_combo.iloc[:, 1:] = df_combo.iloc[:, 1:].astype(float)\n",
    "\n",
    "# calculate the median and mean for each row (excluding the first column)\n",
    "medians = df_combo.iloc[:, 1:].median(axis=1)\n",
    "avg = df_combo.iloc[:, 1:].mean(axis=1)\n",
    "\n",
    "# Add the median values as a new column named 'Median RMSE'\n",
    "df_combo['Median RMSE'] = medians\n",
    "df_combo['Avg RMSE'] = avg\n",
    "\n",
    "# Display the updated DataFrame\n",
    "df_combo"
   ]
  },
  {
   "cell_type": "markdown",
   "metadata": {},
   "source": [
    "Comparing the median and mean of the 10 runs of each combination, it is obvious that the best combination for GP to give the lowest fitness (RMSE) is:\n",
    "- selector = full\n",
    "- population size = 100\n",
    "- with elitism"
   ]
  },
  {
   "cell_type": "markdown",
   "metadata": {},
   "source": [
    "> ##### **median RMSE on test set:** 0.512142\n",
    "> ##### **RMSE vector for statistical tests:\n",
    "> RMSE_GP =[0.5493314266204834, 0.47119712829589844, 0.608669102191925, 0.7458630800247192, 0.4773491322994232, 0.26259058713912964, 0.8935564756393433, 0.5121418237686157, 0.3910347521305084, 0.6897413730621338]\n"
   ]
  }
 ],
 "metadata": {
  "kernelspec": {
   "display_name": "Python 3",
   "language": "python",
   "name": "python3"
  },
  "language_info": {
   "codemirror_mode": {
    "name": "ipython",
    "version": 3
   },
   "file_extension": ".py",
   "mimetype": "text/x-python",
   "name": "python",
   "nbconvert_exporter": "python",
   "pygments_lexer": "ipython3",
   "version": "3.12.1"
  }
 },
 "nbformat": 4,
 "nbformat_minor": 2
}
